{
  "nbformat": 4,
  "nbformat_minor": 0,
  "metadata": {
    "colab": {
      "name": "Group3_DeepLearning_FinalProject.ipynb",
      "provenance": []
    },
    "kernelspec": {
      "name": "python3",
      "display_name": "Python 3"
    },
    "language_info": {
      "name": "python"
    },
    "accelerator": "GPU"
  },
  "cells": [
    {
      "cell_type": "markdown",
      "source": [
        "# Using LSTM and Conv1D to predict stock price\n",
        "\n"
      ],
      "metadata": {
        "id": "-TBvpA87OMkp"
      }
    },
    {
      "cell_type": "markdown",
      "source": [
        "# Prepare and Preprocess Data"
      ],
      "metadata": {
        "id": "Jos3B0ZyOYKN"
      }
    },
    {
      "cell_type": "code",
      "execution_count": 1,
      "metadata": {
        "colab": {
          "base_uri": "https://localhost:8080/"
        },
        "id": "kLFPZh2WWq75",
        "outputId": "960630e0-1667-4089-914c-f8a0a88a1878"
      },
      "outputs": [
        {
          "output_type": "stream",
          "name": "stdout",
          "text": [
            "Requirement already satisfied: yfinance in /usr/local/lib/python3.7/dist-packages (0.1.70)\n",
            "Requirement already satisfied: requests>=2.26 in /usr/local/lib/python3.7/dist-packages (from yfinance) (2.27.1)\n",
            "Requirement already satisfied: numpy>=1.15 in /usr/local/lib/python3.7/dist-packages (from yfinance) (1.21.6)\n",
            "Requirement already satisfied: lxml>=4.5.1 in /usr/local/lib/python3.7/dist-packages (from yfinance) (4.8.0)\n",
            "Requirement already satisfied: multitasking>=0.0.7 in /usr/local/lib/python3.7/dist-packages (from yfinance) (0.0.10)\n",
            "Requirement already satisfied: pandas>=0.24.0 in /usr/local/lib/python3.7/dist-packages (from yfinance) (1.3.5)\n",
            "Requirement already satisfied: python-dateutil>=2.7.3 in /usr/local/lib/python3.7/dist-packages (from pandas>=0.24.0->yfinance) (2.8.2)\n",
            "Requirement already satisfied: pytz>=2017.3 in /usr/local/lib/python3.7/dist-packages (from pandas>=0.24.0->yfinance) (2022.1)\n",
            "Requirement already satisfied: six>=1.5 in /usr/local/lib/python3.7/dist-packages (from python-dateutil>=2.7.3->pandas>=0.24.0->yfinance) (1.15.0)\n",
            "Requirement already satisfied: urllib3<1.27,>=1.21.1 in /usr/local/lib/python3.7/dist-packages (from requests>=2.26->yfinance) (1.24.3)\n",
            "Requirement already satisfied: charset-normalizer~=2.0.0 in /usr/local/lib/python3.7/dist-packages (from requests>=2.26->yfinance) (2.0.12)\n",
            "Requirement already satisfied: idna<4,>=2.5 in /usr/local/lib/python3.7/dist-packages (from requests>=2.26->yfinance) (2.10)\n",
            "Requirement already satisfied: certifi>=2017.4.17 in /usr/local/lib/python3.7/dist-packages (from requests>=2.26->yfinance) (2021.10.8)\n"
          ]
        }
      ],
      "source": [
        "!pip install yfinance\n",
        "import pandas as pd\n",
        "import numpy as np\n",
        "import yfinance as yf"
      ]
    },
    {
      "cell_type": "code",
      "source": [
        "from google.colab import drive\n",
        "drive.mount('/content/drive')"
      ],
      "metadata": {
        "colab": {
          "base_uri": "https://localhost:8080/"
        },
        "id": "pVC5xk6hGb6H",
        "outputId": "51df23ed-0070-4db8-d6cd-a3c1f791a56a"
      },
      "execution_count": 2,
      "outputs": [
        {
          "output_type": "stream",
          "name": "stdout",
          "text": [
            "Drive already mounted at /content/drive; to attempt to forcibly remount, call drive.mount(\"/content/drive\", force_remount=True).\n"
          ]
        }
      ]
    },
    {
      "cell_type": "markdown",
      "source": [
        "## Read in Farma-French five factor data downloaded from Kenneth R. French Data Library"
      ],
      "metadata": {
        "id": "zenbmAtDOn_-"
      }
    },
    {
      "cell_type": "code",
      "source": [
        "ff_5=pd.read_excel('/content/drive/MyDrive/Deep Learning Datasets/Final Project/F-F_Research_Data_5_Factors_2x3_daily_CSV.zip (Unzipped Files) (1)/F-F_Research_Data_5_Factors_2x3_daily.xlsx',header=3,names=['Date','Mkt-Rf','SMB','HML','RMW','CMA','RF'])\n",
        "ff_5.head()"
      ],
      "metadata": {
        "colab": {
          "base_uri": "https://localhost:8080/",
          "height": 206
        },
        "id": "Md9paFAoHTMz",
        "outputId": "18cc5254-7b67-4300-8473-b8ed3a9954eb"
      },
      "execution_count": 149,
      "outputs": [
        {
          "output_type": "execute_result",
          "data": {
            "text/plain": [
              "       Date  Mkt-Rf   SMB   HML   RMW   CMA     RF\n",
              "0  19630701   -0.67  0.01 -0.35  0.03  0.11  0.012\n",
              "1  19630702    0.79 -0.31  0.24 -0.08 -0.25  0.012\n",
              "2  19630703    0.63 -0.16 -0.09  0.13 -0.24  0.012\n",
              "3  19630705    0.40  0.09 -0.26  0.07 -0.28  0.012\n",
              "4  19630708   -0.63  0.07 -0.19 -0.27  0.06  0.012"
            ],
            "text/html": [
              "\n",
              "  <div id=\"df-92d51380-656d-4f8e-bf3e-296c6e189e40\">\n",
              "    <div class=\"colab-df-container\">\n",
              "      <div>\n",
              "<style scoped>\n",
              "    .dataframe tbody tr th:only-of-type {\n",
              "        vertical-align: middle;\n",
              "    }\n",
              "\n",
              "    .dataframe tbody tr th {\n",
              "        vertical-align: top;\n",
              "    }\n",
              "\n",
              "    .dataframe thead th {\n",
              "        text-align: right;\n",
              "    }\n",
              "</style>\n",
              "<table border=\"1\" class=\"dataframe\">\n",
              "  <thead>\n",
              "    <tr style=\"text-align: right;\">\n",
              "      <th></th>\n",
              "      <th>Date</th>\n",
              "      <th>Mkt-Rf</th>\n",
              "      <th>SMB</th>\n",
              "      <th>HML</th>\n",
              "      <th>RMW</th>\n",
              "      <th>CMA</th>\n",
              "      <th>RF</th>\n",
              "    </tr>\n",
              "  </thead>\n",
              "  <tbody>\n",
              "    <tr>\n",
              "      <th>0</th>\n",
              "      <td>19630701</td>\n",
              "      <td>-0.67</td>\n",
              "      <td>0.01</td>\n",
              "      <td>-0.35</td>\n",
              "      <td>0.03</td>\n",
              "      <td>0.11</td>\n",
              "      <td>0.012</td>\n",
              "    </tr>\n",
              "    <tr>\n",
              "      <th>1</th>\n",
              "      <td>19630702</td>\n",
              "      <td>0.79</td>\n",
              "      <td>-0.31</td>\n",
              "      <td>0.24</td>\n",
              "      <td>-0.08</td>\n",
              "      <td>-0.25</td>\n",
              "      <td>0.012</td>\n",
              "    </tr>\n",
              "    <tr>\n",
              "      <th>2</th>\n",
              "      <td>19630703</td>\n",
              "      <td>0.63</td>\n",
              "      <td>-0.16</td>\n",
              "      <td>-0.09</td>\n",
              "      <td>0.13</td>\n",
              "      <td>-0.24</td>\n",
              "      <td>0.012</td>\n",
              "    </tr>\n",
              "    <tr>\n",
              "      <th>3</th>\n",
              "      <td>19630705</td>\n",
              "      <td>0.40</td>\n",
              "      <td>0.09</td>\n",
              "      <td>-0.26</td>\n",
              "      <td>0.07</td>\n",
              "      <td>-0.28</td>\n",
              "      <td>0.012</td>\n",
              "    </tr>\n",
              "    <tr>\n",
              "      <th>4</th>\n",
              "      <td>19630708</td>\n",
              "      <td>-0.63</td>\n",
              "      <td>0.07</td>\n",
              "      <td>-0.19</td>\n",
              "      <td>-0.27</td>\n",
              "      <td>0.06</td>\n",
              "      <td>0.012</td>\n",
              "    </tr>\n",
              "  </tbody>\n",
              "</table>\n",
              "</div>\n",
              "      <button class=\"colab-df-convert\" onclick=\"convertToInteractive('df-92d51380-656d-4f8e-bf3e-296c6e189e40')\"\n",
              "              title=\"Convert this dataframe to an interactive table.\"\n",
              "              style=\"display:none;\">\n",
              "        \n",
              "  <svg xmlns=\"http://www.w3.org/2000/svg\" height=\"24px\"viewBox=\"0 0 24 24\"\n",
              "       width=\"24px\">\n",
              "    <path d=\"M0 0h24v24H0V0z\" fill=\"none\"/>\n",
              "    <path d=\"M18.56 5.44l.94 2.06.94-2.06 2.06-.94-2.06-.94-.94-2.06-.94 2.06-2.06.94zm-11 1L8.5 8.5l.94-2.06 2.06-.94-2.06-.94L8.5 2.5l-.94 2.06-2.06.94zm10 10l.94 2.06.94-2.06 2.06-.94-2.06-.94-.94-2.06-.94 2.06-2.06.94z\"/><path d=\"M17.41 7.96l-1.37-1.37c-.4-.4-.92-.59-1.43-.59-.52 0-1.04.2-1.43.59L10.3 9.45l-7.72 7.72c-.78.78-.78 2.05 0 2.83L4 21.41c.39.39.9.59 1.41.59.51 0 1.02-.2 1.41-.59l7.78-7.78 2.81-2.81c.8-.78.8-2.07 0-2.86zM5.41 20L4 18.59l7.72-7.72 1.47 1.35L5.41 20z\"/>\n",
              "  </svg>\n",
              "      </button>\n",
              "      \n",
              "  <style>\n",
              "    .colab-df-container {\n",
              "      display:flex;\n",
              "      flex-wrap:wrap;\n",
              "      gap: 12px;\n",
              "    }\n",
              "\n",
              "    .colab-df-convert {\n",
              "      background-color: #E8F0FE;\n",
              "      border: none;\n",
              "      border-radius: 50%;\n",
              "      cursor: pointer;\n",
              "      display: none;\n",
              "      fill: #1967D2;\n",
              "      height: 32px;\n",
              "      padding: 0 0 0 0;\n",
              "      width: 32px;\n",
              "    }\n",
              "\n",
              "    .colab-df-convert:hover {\n",
              "      background-color: #E2EBFA;\n",
              "      box-shadow: 0px 1px 2px rgba(60, 64, 67, 0.3), 0px 1px 3px 1px rgba(60, 64, 67, 0.15);\n",
              "      fill: #174EA6;\n",
              "    }\n",
              "\n",
              "    [theme=dark] .colab-df-convert {\n",
              "      background-color: #3B4455;\n",
              "      fill: #D2E3FC;\n",
              "    }\n",
              "\n",
              "    [theme=dark] .colab-df-convert:hover {\n",
              "      background-color: #434B5C;\n",
              "      box-shadow: 0px 1px 3px 1px rgba(0, 0, 0, 0.15);\n",
              "      filter: drop-shadow(0px 1px 2px rgba(0, 0, 0, 0.3));\n",
              "      fill: #FFFFFF;\n",
              "    }\n",
              "  </style>\n",
              "\n",
              "      <script>\n",
              "        const buttonEl =\n",
              "          document.querySelector('#df-92d51380-656d-4f8e-bf3e-296c6e189e40 button.colab-df-convert');\n",
              "        buttonEl.style.display =\n",
              "          google.colab.kernel.accessAllowed ? 'block' : 'none';\n",
              "\n",
              "        async function convertToInteractive(key) {\n",
              "          const element = document.querySelector('#df-92d51380-656d-4f8e-bf3e-296c6e189e40');\n",
              "          const dataTable =\n",
              "            await google.colab.kernel.invokeFunction('convertToInteractive',\n",
              "                                                     [key], {});\n",
              "          if (!dataTable) return;\n",
              "\n",
              "          const docLinkHtml = 'Like what you see? Visit the ' +\n",
              "            '<a target=\"_blank\" href=https://colab.research.google.com/notebooks/data_table.ipynb>data table notebook</a>'\n",
              "            + ' to learn more about interactive tables.';\n",
              "          element.innerHTML = '';\n",
              "          dataTable['output_type'] = 'display_data';\n",
              "          await google.colab.output.renderOutput(dataTable, element);\n",
              "          const docLink = document.createElement('div');\n",
              "          docLink.innerHTML = docLinkHtml;\n",
              "          element.appendChild(docLink);\n",
              "        }\n",
              "      </script>\n",
              "    </div>\n",
              "  </div>\n",
              "  "
            ]
          },
          "metadata": {},
          "execution_count": 149
        }
      ]
    },
    {
      "cell_type": "code",
      "source": [
        "import time\n",
        "ff_5['Date']=[pd.to_datetime(str(i)[:4]+'/'+str(i)[4:6]+'/'+str(i)[6:]) for i in ff_5['Date']] # parse the date informaiton"
      ],
      "metadata": {
        "id": "hJuZIGveJX39"
      },
      "execution_count": 150,
      "outputs": []
    },
    {
      "cell_type": "code",
      "source": [
        "ff_5=ff_5.loc[(ff_5['Date']>='2019-02-28')&(ff_5['Date']<'2022-02-28')]"
      ],
      "metadata": {
        "id": "OMry2-FWLn3G"
      },
      "execution_count": 151,
      "outputs": []
    },
    {
      "cell_type": "code",
      "source": [
        "ff_5"
      ],
      "metadata": {
        "colab": {
          "base_uri": "https://localhost:8080/",
          "height": 423
        },
        "id": "9OWSMiLGboZH",
        "outputId": "f27de2b3-8589-4876-b6cf-d6cfbfd00228"
      },
      "execution_count": 152,
      "outputs": [
        {
          "output_type": "execute_result",
          "data": {
            "text/plain": [
              "            Date  Mkt-Rf   SMB   HML   RMW   CMA     RF\n",
              "14010 2019-02-28   -0.31 -0.02 -0.25  0.29  0.16  0.010\n",
              "14011 2019-03-01    0.72  0.25 -0.41 -0.35 -0.18  0.009\n",
              "14012 2019-03-04   -0.52 -0.38  0.39  0.14 -0.09  0.009\n",
              "14013 2019-03-05   -0.17 -0.32 -0.23  0.28  0.00  0.009\n",
              "14014 2019-03-06   -0.84 -1.23  0.05  0.55  0.12  0.009\n",
              "...          ...     ...   ...   ...   ...   ...    ...\n",
              "14761 2022-02-18   -0.87  0.12  0.93  1.02  0.39  0.000\n",
              "14762 2022-02-22   -1.18 -0.37  0.12 -0.06  0.12  0.000\n",
              "14763 2022-02-23   -1.96  0.07  1.25  0.00  1.07  0.000\n",
              "14764 2022-02-24    1.88  0.67 -3.85 -1.74 -1.75  0.000\n",
              "14765 2022-02-25    2.23 -0.12  1.20  0.35 -0.19  0.000\n",
              "\n",
              "[756 rows x 7 columns]"
            ],
            "text/html": [
              "\n",
              "  <div id=\"df-bcf3faee-4213-49bc-b64e-7e56d900fbc5\">\n",
              "    <div class=\"colab-df-container\">\n",
              "      <div>\n",
              "<style scoped>\n",
              "    .dataframe tbody tr th:only-of-type {\n",
              "        vertical-align: middle;\n",
              "    }\n",
              "\n",
              "    .dataframe tbody tr th {\n",
              "        vertical-align: top;\n",
              "    }\n",
              "\n",
              "    .dataframe thead th {\n",
              "        text-align: right;\n",
              "    }\n",
              "</style>\n",
              "<table border=\"1\" class=\"dataframe\">\n",
              "  <thead>\n",
              "    <tr style=\"text-align: right;\">\n",
              "      <th></th>\n",
              "      <th>Date</th>\n",
              "      <th>Mkt-Rf</th>\n",
              "      <th>SMB</th>\n",
              "      <th>HML</th>\n",
              "      <th>RMW</th>\n",
              "      <th>CMA</th>\n",
              "      <th>RF</th>\n",
              "    </tr>\n",
              "  </thead>\n",
              "  <tbody>\n",
              "    <tr>\n",
              "      <th>14010</th>\n",
              "      <td>2019-02-28</td>\n",
              "      <td>-0.31</td>\n",
              "      <td>-0.02</td>\n",
              "      <td>-0.25</td>\n",
              "      <td>0.29</td>\n",
              "      <td>0.16</td>\n",
              "      <td>0.010</td>\n",
              "    </tr>\n",
              "    <tr>\n",
              "      <th>14011</th>\n",
              "      <td>2019-03-01</td>\n",
              "      <td>0.72</td>\n",
              "      <td>0.25</td>\n",
              "      <td>-0.41</td>\n",
              "      <td>-0.35</td>\n",
              "      <td>-0.18</td>\n",
              "      <td>0.009</td>\n",
              "    </tr>\n",
              "    <tr>\n",
              "      <th>14012</th>\n",
              "      <td>2019-03-04</td>\n",
              "      <td>-0.52</td>\n",
              "      <td>-0.38</td>\n",
              "      <td>0.39</td>\n",
              "      <td>0.14</td>\n",
              "      <td>-0.09</td>\n",
              "      <td>0.009</td>\n",
              "    </tr>\n",
              "    <tr>\n",
              "      <th>14013</th>\n",
              "      <td>2019-03-05</td>\n",
              "      <td>-0.17</td>\n",
              "      <td>-0.32</td>\n",
              "      <td>-0.23</td>\n",
              "      <td>0.28</td>\n",
              "      <td>0.00</td>\n",
              "      <td>0.009</td>\n",
              "    </tr>\n",
              "    <tr>\n",
              "      <th>14014</th>\n",
              "      <td>2019-03-06</td>\n",
              "      <td>-0.84</td>\n",
              "      <td>-1.23</td>\n",
              "      <td>0.05</td>\n",
              "      <td>0.55</td>\n",
              "      <td>0.12</td>\n",
              "      <td>0.009</td>\n",
              "    </tr>\n",
              "    <tr>\n",
              "      <th>...</th>\n",
              "      <td>...</td>\n",
              "      <td>...</td>\n",
              "      <td>...</td>\n",
              "      <td>...</td>\n",
              "      <td>...</td>\n",
              "      <td>...</td>\n",
              "      <td>...</td>\n",
              "    </tr>\n",
              "    <tr>\n",
              "      <th>14761</th>\n",
              "      <td>2022-02-18</td>\n",
              "      <td>-0.87</td>\n",
              "      <td>0.12</td>\n",
              "      <td>0.93</td>\n",
              "      <td>1.02</td>\n",
              "      <td>0.39</td>\n",
              "      <td>0.000</td>\n",
              "    </tr>\n",
              "    <tr>\n",
              "      <th>14762</th>\n",
              "      <td>2022-02-22</td>\n",
              "      <td>-1.18</td>\n",
              "      <td>-0.37</td>\n",
              "      <td>0.12</td>\n",
              "      <td>-0.06</td>\n",
              "      <td>0.12</td>\n",
              "      <td>0.000</td>\n",
              "    </tr>\n",
              "    <tr>\n",
              "      <th>14763</th>\n",
              "      <td>2022-02-23</td>\n",
              "      <td>-1.96</td>\n",
              "      <td>0.07</td>\n",
              "      <td>1.25</td>\n",
              "      <td>0.00</td>\n",
              "      <td>1.07</td>\n",
              "      <td>0.000</td>\n",
              "    </tr>\n",
              "    <tr>\n",
              "      <th>14764</th>\n",
              "      <td>2022-02-24</td>\n",
              "      <td>1.88</td>\n",
              "      <td>0.67</td>\n",
              "      <td>-3.85</td>\n",
              "      <td>-1.74</td>\n",
              "      <td>-1.75</td>\n",
              "      <td>0.000</td>\n",
              "    </tr>\n",
              "    <tr>\n",
              "      <th>14765</th>\n",
              "      <td>2022-02-25</td>\n",
              "      <td>2.23</td>\n",
              "      <td>-0.12</td>\n",
              "      <td>1.20</td>\n",
              "      <td>0.35</td>\n",
              "      <td>-0.19</td>\n",
              "      <td>0.000</td>\n",
              "    </tr>\n",
              "  </tbody>\n",
              "</table>\n",
              "<p>756 rows × 7 columns</p>\n",
              "</div>\n",
              "      <button class=\"colab-df-convert\" onclick=\"convertToInteractive('df-bcf3faee-4213-49bc-b64e-7e56d900fbc5')\"\n",
              "              title=\"Convert this dataframe to an interactive table.\"\n",
              "              style=\"display:none;\">\n",
              "        \n",
              "  <svg xmlns=\"http://www.w3.org/2000/svg\" height=\"24px\"viewBox=\"0 0 24 24\"\n",
              "       width=\"24px\">\n",
              "    <path d=\"M0 0h24v24H0V0z\" fill=\"none\"/>\n",
              "    <path d=\"M18.56 5.44l.94 2.06.94-2.06 2.06-.94-2.06-.94-.94-2.06-.94 2.06-2.06.94zm-11 1L8.5 8.5l.94-2.06 2.06-.94-2.06-.94L8.5 2.5l-.94 2.06-2.06.94zm10 10l.94 2.06.94-2.06 2.06-.94-2.06-.94-.94-2.06-.94 2.06-2.06.94z\"/><path d=\"M17.41 7.96l-1.37-1.37c-.4-.4-.92-.59-1.43-.59-.52 0-1.04.2-1.43.59L10.3 9.45l-7.72 7.72c-.78.78-.78 2.05 0 2.83L4 21.41c.39.39.9.59 1.41.59.51 0 1.02-.2 1.41-.59l7.78-7.78 2.81-2.81c.8-.78.8-2.07 0-2.86zM5.41 20L4 18.59l7.72-7.72 1.47 1.35L5.41 20z\"/>\n",
              "  </svg>\n",
              "      </button>\n",
              "      \n",
              "  <style>\n",
              "    .colab-df-container {\n",
              "      display:flex;\n",
              "      flex-wrap:wrap;\n",
              "      gap: 12px;\n",
              "    }\n",
              "\n",
              "    .colab-df-convert {\n",
              "      background-color: #E8F0FE;\n",
              "      border: none;\n",
              "      border-radius: 50%;\n",
              "      cursor: pointer;\n",
              "      display: none;\n",
              "      fill: #1967D2;\n",
              "      height: 32px;\n",
              "      padding: 0 0 0 0;\n",
              "      width: 32px;\n",
              "    }\n",
              "\n",
              "    .colab-df-convert:hover {\n",
              "      background-color: #E2EBFA;\n",
              "      box-shadow: 0px 1px 2px rgba(60, 64, 67, 0.3), 0px 1px 3px 1px rgba(60, 64, 67, 0.15);\n",
              "      fill: #174EA6;\n",
              "    }\n",
              "\n",
              "    [theme=dark] .colab-df-convert {\n",
              "      background-color: #3B4455;\n",
              "      fill: #D2E3FC;\n",
              "    }\n",
              "\n",
              "    [theme=dark] .colab-df-convert:hover {\n",
              "      background-color: #434B5C;\n",
              "      box-shadow: 0px 1px 3px 1px rgba(0, 0, 0, 0.15);\n",
              "      filter: drop-shadow(0px 1px 2px rgba(0, 0, 0, 0.3));\n",
              "      fill: #FFFFFF;\n",
              "    }\n",
              "  </style>\n",
              "\n",
              "      <script>\n",
              "        const buttonEl =\n",
              "          document.querySelector('#df-bcf3faee-4213-49bc-b64e-7e56d900fbc5 button.colab-df-convert');\n",
              "        buttonEl.style.display =\n",
              "          google.colab.kernel.accessAllowed ? 'block' : 'none';\n",
              "\n",
              "        async function convertToInteractive(key) {\n",
              "          const element = document.querySelector('#df-bcf3faee-4213-49bc-b64e-7e56d900fbc5');\n",
              "          const dataTable =\n",
              "            await google.colab.kernel.invokeFunction('convertToInteractive',\n",
              "                                                     [key], {});\n",
              "          if (!dataTable) return;\n",
              "\n",
              "          const docLinkHtml = 'Like what you see? Visit the ' +\n",
              "            '<a target=\"_blank\" href=https://colab.research.google.com/notebooks/data_table.ipynb>data table notebook</a>'\n",
              "            + ' to learn more about interactive tables.';\n",
              "          element.innerHTML = '';\n",
              "          dataTable['output_type'] = 'display_data';\n",
              "          await google.colab.output.renderOutput(dataTable, element);\n",
              "          const docLink = document.createElement('div');\n",
              "          docLink.innerHTML = docLinkHtml;\n",
              "          element.appendChild(docLink);\n",
              "        }\n",
              "      </script>\n",
              "    </div>\n",
              "  </div>\n",
              "  "
            ]
          },
          "metadata": {},
          "execution_count": 152
        }
      ]
    },
    {
      "cell_type": "markdown",
      "source": [
        "## Read in last 10 years' stock daily price data for S&P 500 companies from Yahoo finance API"
      ],
      "metadata": {
        "id": "2hWh5Z-rPAjo"
      }
    },
    {
      "cell_type": "code",
      "source": [
        "# tickers of all s&p 500 firms\n",
        "tickers = pd.read_excel('/content/drive/MyDrive/Deep Learning Datasets/Final Project/SP500 Listed Companies.xlsx')\n",
        "tickers.head()"
      ],
      "metadata": {
        "colab": {
          "base_uri": "https://localhost:8080/",
          "height": 206
        },
        "id": "lpuBM23sTJPf",
        "outputId": "1b678a27-ca58-45dd-8b60-87fc445c7a0a"
      },
      "execution_count": 153,
      "outputs": [
        {
          "output_type": "execute_result",
          "data": {
            "text/plain": [
              "  Symbol                 Security             GICS Sector  \\\n",
              "0      A     Agilent Technologies             Health Care   \n",
              "1    AAL  American Airlines Group             Industrials   \n",
              "2    AAP       Advance Auto Parts  Consumer Discretionary   \n",
              "3   AAPL                    Apple  Information Technology   \n",
              "4   ABBV                   AbbVie             Health Care   \n",
              "\n",
              "                            GICS Sub-Industry     Date first added  \\\n",
              "0                       Health Care Equipment  2000-06-05 00:00:00   \n",
              "1                                    Airlines  2015-03-23 00:00:00   \n",
              "2                           Automotive Retail  2015-07-09 00:00:00   \n",
              "3  Technology Hardware, Storage & Peripherals  1982-11-30 00:00:00   \n",
              "4                             Pharmaceuticals  2012-12-31 00:00:00   \n",
              "\n",
              "       Founded  \n",
              "0         1999  \n",
              "1         1934  \n",
              "2         1932  \n",
              "3         1977  \n",
              "4  2013 (1888)  "
            ],
            "text/html": [
              "\n",
              "  <div id=\"df-5050ea85-96bb-46ba-90c7-d5d5d36dd034\">\n",
              "    <div class=\"colab-df-container\">\n",
              "      <div>\n",
              "<style scoped>\n",
              "    .dataframe tbody tr th:only-of-type {\n",
              "        vertical-align: middle;\n",
              "    }\n",
              "\n",
              "    .dataframe tbody tr th {\n",
              "        vertical-align: top;\n",
              "    }\n",
              "\n",
              "    .dataframe thead th {\n",
              "        text-align: right;\n",
              "    }\n",
              "</style>\n",
              "<table border=\"1\" class=\"dataframe\">\n",
              "  <thead>\n",
              "    <tr style=\"text-align: right;\">\n",
              "      <th></th>\n",
              "      <th>Symbol</th>\n",
              "      <th>Security</th>\n",
              "      <th>GICS Sector</th>\n",
              "      <th>GICS Sub-Industry</th>\n",
              "      <th>Date first added</th>\n",
              "      <th>Founded</th>\n",
              "    </tr>\n",
              "  </thead>\n",
              "  <tbody>\n",
              "    <tr>\n",
              "      <th>0</th>\n",
              "      <td>A</td>\n",
              "      <td>Agilent Technologies</td>\n",
              "      <td>Health Care</td>\n",
              "      <td>Health Care Equipment</td>\n",
              "      <td>2000-06-05 00:00:00</td>\n",
              "      <td>1999</td>\n",
              "    </tr>\n",
              "    <tr>\n",
              "      <th>1</th>\n",
              "      <td>AAL</td>\n",
              "      <td>American Airlines Group</td>\n",
              "      <td>Industrials</td>\n",
              "      <td>Airlines</td>\n",
              "      <td>2015-03-23 00:00:00</td>\n",
              "      <td>1934</td>\n",
              "    </tr>\n",
              "    <tr>\n",
              "      <th>2</th>\n",
              "      <td>AAP</td>\n",
              "      <td>Advance Auto Parts</td>\n",
              "      <td>Consumer Discretionary</td>\n",
              "      <td>Automotive Retail</td>\n",
              "      <td>2015-07-09 00:00:00</td>\n",
              "      <td>1932</td>\n",
              "    </tr>\n",
              "    <tr>\n",
              "      <th>3</th>\n",
              "      <td>AAPL</td>\n",
              "      <td>Apple</td>\n",
              "      <td>Information Technology</td>\n",
              "      <td>Technology Hardware, Storage &amp; Peripherals</td>\n",
              "      <td>1982-11-30 00:00:00</td>\n",
              "      <td>1977</td>\n",
              "    </tr>\n",
              "    <tr>\n",
              "      <th>4</th>\n",
              "      <td>ABBV</td>\n",
              "      <td>AbbVie</td>\n",
              "      <td>Health Care</td>\n",
              "      <td>Pharmaceuticals</td>\n",
              "      <td>2012-12-31 00:00:00</td>\n",
              "      <td>2013 (1888)</td>\n",
              "    </tr>\n",
              "  </tbody>\n",
              "</table>\n",
              "</div>\n",
              "      <button class=\"colab-df-convert\" onclick=\"convertToInteractive('df-5050ea85-96bb-46ba-90c7-d5d5d36dd034')\"\n",
              "              title=\"Convert this dataframe to an interactive table.\"\n",
              "              style=\"display:none;\">\n",
              "        \n",
              "  <svg xmlns=\"http://www.w3.org/2000/svg\" height=\"24px\"viewBox=\"0 0 24 24\"\n",
              "       width=\"24px\">\n",
              "    <path d=\"M0 0h24v24H0V0z\" fill=\"none\"/>\n",
              "    <path d=\"M18.56 5.44l.94 2.06.94-2.06 2.06-.94-2.06-.94-.94-2.06-.94 2.06-2.06.94zm-11 1L8.5 8.5l.94-2.06 2.06-.94-2.06-.94L8.5 2.5l-.94 2.06-2.06.94zm10 10l.94 2.06.94-2.06 2.06-.94-2.06-.94-.94-2.06-.94 2.06-2.06.94z\"/><path d=\"M17.41 7.96l-1.37-1.37c-.4-.4-.92-.59-1.43-.59-.52 0-1.04.2-1.43.59L10.3 9.45l-7.72 7.72c-.78.78-.78 2.05 0 2.83L4 21.41c.39.39.9.59 1.41.59.51 0 1.02-.2 1.41-.59l7.78-7.78 2.81-2.81c.8-.78.8-2.07 0-2.86zM5.41 20L4 18.59l7.72-7.72 1.47 1.35L5.41 20z\"/>\n",
              "  </svg>\n",
              "      </button>\n",
              "      \n",
              "  <style>\n",
              "    .colab-df-container {\n",
              "      display:flex;\n",
              "      flex-wrap:wrap;\n",
              "      gap: 12px;\n",
              "    }\n",
              "\n",
              "    .colab-df-convert {\n",
              "      background-color: #E8F0FE;\n",
              "      border: none;\n",
              "      border-radius: 50%;\n",
              "      cursor: pointer;\n",
              "      display: none;\n",
              "      fill: #1967D2;\n",
              "      height: 32px;\n",
              "      padding: 0 0 0 0;\n",
              "      width: 32px;\n",
              "    }\n",
              "\n",
              "    .colab-df-convert:hover {\n",
              "      background-color: #E2EBFA;\n",
              "      box-shadow: 0px 1px 2px rgba(60, 64, 67, 0.3), 0px 1px 3px 1px rgba(60, 64, 67, 0.15);\n",
              "      fill: #174EA6;\n",
              "    }\n",
              "\n",
              "    [theme=dark] .colab-df-convert {\n",
              "      background-color: #3B4455;\n",
              "      fill: #D2E3FC;\n",
              "    }\n",
              "\n",
              "    [theme=dark] .colab-df-convert:hover {\n",
              "      background-color: #434B5C;\n",
              "      box-shadow: 0px 1px 3px 1px rgba(0, 0, 0, 0.15);\n",
              "      filter: drop-shadow(0px 1px 2px rgba(0, 0, 0, 0.3));\n",
              "      fill: #FFFFFF;\n",
              "    }\n",
              "  </style>\n",
              "\n",
              "      <script>\n",
              "        const buttonEl =\n",
              "          document.querySelector('#df-5050ea85-96bb-46ba-90c7-d5d5d36dd034 button.colab-df-convert');\n",
              "        buttonEl.style.display =\n",
              "          google.colab.kernel.accessAllowed ? 'block' : 'none';\n",
              "\n",
              "        async function convertToInteractive(key) {\n",
              "          const element = document.querySelector('#df-5050ea85-96bb-46ba-90c7-d5d5d36dd034');\n",
              "          const dataTable =\n",
              "            await google.colab.kernel.invokeFunction('convertToInteractive',\n",
              "                                                     [key], {});\n",
              "          if (!dataTable) return;\n",
              "\n",
              "          const docLinkHtml = 'Like what you see? Visit the ' +\n",
              "            '<a target=\"_blank\" href=https://colab.research.google.com/notebooks/data_table.ipynb>data table notebook</a>'\n",
              "            + ' to learn more about interactive tables.';\n",
              "          element.innerHTML = '';\n",
              "          dataTable['output_type'] = 'display_data';\n",
              "          await google.colab.output.renderOutput(dataTable, element);\n",
              "          const docLink = document.createElement('div');\n",
              "          docLink.innerHTML = docLinkHtml;\n",
              "          element.appendChild(docLink);\n",
              "        }\n",
              "      </script>\n",
              "    </div>\n",
              "  </div>\n",
              "  "
            ]
          },
          "metadata": {},
          "execution_count": 153
        }
      ]
    },
    {
      "cell_type": "code",
      "source": [
        "stocks_for_model=tickers.Symbol.sample(300)"
      ],
      "metadata": {
        "id": "kWPlhikYKp1A"
      },
      "execution_count": 389,
      "outputs": []
    },
    {
      "cell_type": "code",
      "source": [
        "# download data from Yahoo finance dataset\n",
        "history_data={}\n",
        "for i in stocks_for_model:\n",
        "    connect=yf.Ticker(i)\n",
        "    history_data[i] = connect.history(start='2019-02-28',end='2022-02-28')"
      ],
      "metadata": {
        "id": "TxQf5Ok_R9Jz",
        "colab": {
          "base_uri": "https://localhost:8080/"
        },
        "outputId": "24d0232b-2c3d-4503-ebb6-23b63243e363"
      },
      "execution_count": 420,
      "outputs": [
        {
          "output_type": "stream",
          "name": "stdout",
          "text": [
            "- BRK.B: No data found, symbol may be delisted\n"
          ]
        }
      ]
    },
    {
      "cell_type": "code",
      "source": [
        "history_data.pop('BRK.B')"
      ],
      "metadata": {
        "colab": {
          "base_uri": "https://localhost:8080/",
          "height": 81
        },
        "id": "2OpA_V5FPNx1",
        "outputId": "096a37b1-9add-40de-f278-fd8f2f30a6de"
      },
      "execution_count": 421,
      "outputs": [
        {
          "output_type": "execute_result",
          "data": {
            "text/plain": [
              "Empty DataFrame\n",
              "Columns: [Open, High, Low, Close, Adj Close, Volume]\n",
              "Index: []"
            ],
            "text/html": [
              "\n",
              "  <div id=\"df-110653ff-c814-4ef3-baa4-e8232ec1bf09\">\n",
              "    <div class=\"colab-df-container\">\n",
              "      <div>\n",
              "<style scoped>\n",
              "    .dataframe tbody tr th:only-of-type {\n",
              "        vertical-align: middle;\n",
              "    }\n",
              "\n",
              "    .dataframe tbody tr th {\n",
              "        vertical-align: top;\n",
              "    }\n",
              "\n",
              "    .dataframe thead th {\n",
              "        text-align: right;\n",
              "    }\n",
              "</style>\n",
              "<table border=\"1\" class=\"dataframe\">\n",
              "  <thead>\n",
              "    <tr style=\"text-align: right;\">\n",
              "      <th></th>\n",
              "      <th>Open</th>\n",
              "      <th>High</th>\n",
              "      <th>Low</th>\n",
              "      <th>Close</th>\n",
              "      <th>Adj Close</th>\n",
              "      <th>Volume</th>\n",
              "    </tr>\n",
              "    <tr>\n",
              "      <th>Date</th>\n",
              "      <th></th>\n",
              "      <th></th>\n",
              "      <th></th>\n",
              "      <th></th>\n",
              "      <th></th>\n",
              "      <th></th>\n",
              "    </tr>\n",
              "  </thead>\n",
              "  <tbody>\n",
              "  </tbody>\n",
              "</table>\n",
              "</div>\n",
              "      <button class=\"colab-df-convert\" onclick=\"convertToInteractive('df-110653ff-c814-4ef3-baa4-e8232ec1bf09')\"\n",
              "              title=\"Convert this dataframe to an interactive table.\"\n",
              "              style=\"display:none;\">\n",
              "        \n",
              "  <svg xmlns=\"http://www.w3.org/2000/svg\" height=\"24px\"viewBox=\"0 0 24 24\"\n",
              "       width=\"24px\">\n",
              "    <path d=\"M0 0h24v24H0V0z\" fill=\"none\"/>\n",
              "    <path d=\"M18.56 5.44l.94 2.06.94-2.06 2.06-.94-2.06-.94-.94-2.06-.94 2.06-2.06.94zm-11 1L8.5 8.5l.94-2.06 2.06-.94-2.06-.94L8.5 2.5l-.94 2.06-2.06.94zm10 10l.94 2.06.94-2.06 2.06-.94-2.06-.94-.94-2.06-.94 2.06-2.06.94z\"/><path d=\"M17.41 7.96l-1.37-1.37c-.4-.4-.92-.59-1.43-.59-.52 0-1.04.2-1.43.59L10.3 9.45l-7.72 7.72c-.78.78-.78 2.05 0 2.83L4 21.41c.39.39.9.59 1.41.59.51 0 1.02-.2 1.41-.59l7.78-7.78 2.81-2.81c.8-.78.8-2.07 0-2.86zM5.41 20L4 18.59l7.72-7.72 1.47 1.35L5.41 20z\"/>\n",
              "  </svg>\n",
              "      </button>\n",
              "      \n",
              "  <style>\n",
              "    .colab-df-container {\n",
              "      display:flex;\n",
              "      flex-wrap:wrap;\n",
              "      gap: 12px;\n",
              "    }\n",
              "\n",
              "    .colab-df-convert {\n",
              "      background-color: #E8F0FE;\n",
              "      border: none;\n",
              "      border-radius: 50%;\n",
              "      cursor: pointer;\n",
              "      display: none;\n",
              "      fill: #1967D2;\n",
              "      height: 32px;\n",
              "      padding: 0 0 0 0;\n",
              "      width: 32px;\n",
              "    }\n",
              "\n",
              "    .colab-df-convert:hover {\n",
              "      background-color: #E2EBFA;\n",
              "      box-shadow: 0px 1px 2px rgba(60, 64, 67, 0.3), 0px 1px 3px 1px rgba(60, 64, 67, 0.15);\n",
              "      fill: #174EA6;\n",
              "    }\n",
              "\n",
              "    [theme=dark] .colab-df-convert {\n",
              "      background-color: #3B4455;\n",
              "      fill: #D2E3FC;\n",
              "    }\n",
              "\n",
              "    [theme=dark] .colab-df-convert:hover {\n",
              "      background-color: #434B5C;\n",
              "      box-shadow: 0px 1px 3px 1px rgba(0, 0, 0, 0.15);\n",
              "      filter: drop-shadow(0px 1px 2px rgba(0, 0, 0, 0.3));\n",
              "      fill: #FFFFFF;\n",
              "    }\n",
              "  </style>\n",
              "\n",
              "      <script>\n",
              "        const buttonEl =\n",
              "          document.querySelector('#df-110653ff-c814-4ef3-baa4-e8232ec1bf09 button.colab-df-convert');\n",
              "        buttonEl.style.display =\n",
              "          google.colab.kernel.accessAllowed ? 'block' : 'none';\n",
              "\n",
              "        async function convertToInteractive(key) {\n",
              "          const element = document.querySelector('#df-110653ff-c814-4ef3-baa4-e8232ec1bf09');\n",
              "          const dataTable =\n",
              "            await google.colab.kernel.invokeFunction('convertToInteractive',\n",
              "                                                     [key], {});\n",
              "          if (!dataTable) return;\n",
              "\n",
              "          const docLinkHtml = 'Like what you see? Visit the ' +\n",
              "            '<a target=\"_blank\" href=https://colab.research.google.com/notebooks/data_table.ipynb>data table notebook</a>'\n",
              "            + ' to learn more about interactive tables.';\n",
              "          element.innerHTML = '';\n",
              "          dataTable['output_type'] = 'display_data';\n",
              "          await google.colab.output.renderOutput(dataTable, element);\n",
              "          const docLink = document.createElement('div');\n",
              "          docLink.innerHTML = docLinkHtml;\n",
              "          element.appendChild(docLink);\n",
              "        }\n",
              "      </script>\n",
              "    </div>\n",
              "  </div>\n",
              "  "
            ]
          },
          "metadata": {},
          "execution_count": 421
        }
      ]
    },
    {
      "cell_type": "code",
      "source": [
        "# match the data with ff 5 factor model and concatenate them together in a large dataframe\n",
        "for i in history_data.keys():\n",
        "    history_data[i]=pd.merge(history_data[i],ff_5,on='Date')"
      ],
      "metadata": {
        "id": "5VXPpPrgVQZE"
      },
      "execution_count": 422,
      "outputs": []
    },
    {
      "cell_type": "code",
      "source": [
        "from keras.backend import shape\n",
        "# concatinate all the dataframes, drop the irrelevant columns, normalize (using MinMax) stock price and store the dataframe to a new csv files for future use\n",
        "\n",
        "# import and initialize the minmax_scaler\n",
        "from sklearn.preprocessing import StandardScaler\n",
        "scaler = StandardScaler()\n",
        "\n",
        "data=None\n",
        "for i in history_data.keys():\n",
        "    history_data[i]['Ticker']=np.repeat(i,len(history_data[i]))\n",
        "    history_data[i].drop(['Open','High','Low','Volume'],axis=1,inplace=True)\n",
        "    history_data[i]['Close']=scaler.fit_transform(history_data[i]['Close'].values.reshape(-1,1))\n",
        "    if data is None:\n",
        "        data=history_data[i]\n",
        "    else:\n",
        "        data=pd.concat([data,history_data[i]],ignore_index=True)"
      ],
      "metadata": {
        "id": "85NJ9aung5p0"
      },
      "execution_count": 423,
      "outputs": []
    },
    {
      "cell_type": "code",
      "source": [
        "data.to_csv('/content/sample_sp500_data.csv')"
      ],
      "metadata": {
        "id": "zuSOItyDiWTI"
      },
      "execution_count": 424,
      "outputs": []
    },
    {
      "cell_type": "code",
      "source": [
        "!cp sample_sp500_data.csv '/content/drive/MyDrive/Deep Learning Datasets/Final Project/'"
      ],
      "metadata": {
        "id": "MVa9zYejmzh0"
      },
      "execution_count": 425,
      "outputs": []
    },
    {
      "cell_type": "markdown",
      "source": [
        "# After disconnected, use the saved data instead of starting from scratch"
      ],
      "metadata": {
        "id": "Wf6BNROJLOj4"
      }
    },
    {
      "cell_type": "code",
      "source": [
        "data = pd.read_csv('/content/drive/MyDrive/Deep Learning Datasets/Final Project/sample_sp500_data.csv')"
      ],
      "metadata": {
        "id": "BKx5qFOILVZ2"
      },
      "execution_count": 418,
      "outputs": []
    },
    {
      "cell_type": "code",
      "source": [
        "from sklearn.model_selection import train_test_split\n",
        "# take the sample of 100 stocks in S&P 500 for training and validating\n",
        "train, test_tickers= train_test_split(data['Ticker'].unique(),train_size=0.9)\n",
        "train_tickers,val_tickers=train_test_split(data['Ticker'].unique(),train_size=0.8)"
      ],
      "metadata": {
        "id": "ucNeWGmVQIjv"
      },
      "execution_count": 426,
      "outputs": []
    },
    {
      "cell_type": "markdown",
      "source": [
        "## Prepare the data for NNs"
      ],
      "metadata": {
        "id": "PjGKwEW2nmFF"
      }
    },
    {
      "cell_type": "markdown",
      "source": [
        "Since the data we obtained previously is a simple time series data, we need to process the data in order to fit it to the deep learning models."
      ],
      "metadata": {
        "id": "gSgzCquyzLJl"
      }
    },
    {
      "cell_type": "code",
      "source": [
        "# define a function to generate 3D array to feed lstm model that allows customized look back period and delay period\n",
        "def batch_generator(data, lookback, delay, min_index, max_index=None, batch_size=18, step=1,nbatch=0):\n",
        "    if max_index is None:\n",
        "        max_index=len(data)-delay-1 # save enough data for the last prediction\n",
        "    i= min_index + lookback+nbatch\n",
        "    # make sure there's enough data for a batch\n",
        "    data.drop(columns='Ticker',inplace=True)\n",
        "    if i+batch_size<=max_index:\n",
        "        rows = np.arange(i,min(i+batch_size,max_index))\n",
        "\n",
        "        samples=np.zeros((len(rows),lookback//step, data.shape[-1]))\n",
        "        targets = np.zeros((len(rows),))\n",
        "        for j,row in enumerate(rows):\n",
        "            indices=range(rows[j]-lookback,rows[j],step)\n",
        "            samples[j]=data.loc[indices,['Close','Dividends','Stock Splits','Mkt-Rf','SMB','HML','RMW','CMA','RF']]\n",
        "            targets[j]=data.loc[rows[j]+delay,'Close']\n",
        "        \n",
        "        return samples, targets"
      ],
      "metadata": {
        "id": "DMdvR_OLnxGA"
      },
      "execution_count": 399,
      "outputs": []
    },
    {
      "cell_type": "code",
      "source": [
        "def generator(data,tickers,lookback, delay, batch_size, step=1):\n",
        "    while 1:\n",
        "        for i in tickers:\n",
        "            for j in range((len(data.loc[data.Ticker==i,])-lookback)-batch_size):\n",
        "                samples,targets=batch_generator(data.loc[data.Ticker==i, ],\n",
        "                                lookback=lookback, \n",
        "                                delay=delay, \n",
        "                                min_index=min(data.loc[data.Ticker==i, ].index), \n",
        "                                max_index=max(data.loc[data.Ticker==i, ].index),\n",
        "                                nbatch=j,\n",
        "                                batch_size=batch_size)\n",
        "                yield samples,targets        "
      ],
      "metadata": {
        "id": "4tz4vFAqb4-h"
      },
      "execution_count": 400,
      "outputs": []
    },
    {
      "cell_type": "markdown",
      "source": [
        "<font color=blue> Normally, LSTM is used on one single trend and analyze its development over time. However, in stock market, we can spot similar trends in many different stocks. To use data from multiple stocks to train the data, we need to make sure that the data of different stocks don't overlap with each other. Therefore, we are going to first generate data for each stock and combine them together."
      ],
      "metadata": {
        "id": "JHER1dmjd21V"
      }
    },
    {
      "cell_type": "code",
      "source": [
        "# seperate the data into training and validation set\n",
        "train_data=data.loc[data.Ticker.isin(train_tickers),data.columns!='Date']\n",
        "val_data = data.loc[data.Ticker.isin(val_tickers),data.columns!='Date']\n",
        "test_data = data.loc[data.Ticker.isin(test_tickers),data.columns!='Date']"
      ],
      "metadata": {
        "id": "2K5C3FIf2FNp"
      },
      "execution_count": 428,
      "outputs": []
    },
    {
      "cell_type": "code",
      "source": [
        "# reset the index so that we can use index to slice the data set later\n",
        "train_data.index=range(train_data.shape[0])\n",
        "val_data.index=range(val_data.shape[0])\n",
        "test_data.index=range(test_data.shape[0])"
      ],
      "metadata": {
        "id": "uyQqi0vB2VmF"
      },
      "execution_count": 429,
      "outputs": []
    },
    {
      "cell_type": "code",
      "source": [
        "# set some of the parameters\n",
        "lookback= 30         # use 20 past observations to predict the next day\n",
        "delay=0              # model is set to predict the stock price the very next day\n",
        "min_index=0          # we are using the full dataset\n",
        "batch_size = 18      # batch-size set to 18\n",
        "train_gen=generator(train_data,train_tickers, lookback,delay, batch_size)\n",
        "val_gen=generator(val_data,val_tickers, lookback, delay, batch_size)"
      ],
      "metadata": {
        "id": "Vu4Gr9yUdY0P"
      },
      "execution_count": 507,
      "outputs": []
    },
    {
      "cell_type": "markdown",
      "source": [
        "# Model Fitting (DNN, CNN, LSTM and more)"
      ],
      "metadata": {
        "id": "CwWQ3Vm65r1H"
      }
    },
    {
      "cell_type": "markdown",
      "source": [
        "<font color=blue> To find the best model, we aimed to first overfit the model and then add regularization and other tunning methods."
      ],
      "metadata": {
        "id": "eZ6Q7RDP6Isj"
      }
    },
    {
      "cell_type": "markdown",
      "source": [
        "## Baseline Accuracy (using 5-day sliding window mean)"
      ],
      "metadata": {
        "id": "lm2-lAd1OCpt"
      }
    },
    {
      "cell_type": "code",
      "source": [
        "from matplotlib import pyplot as plt\n",
        "# This is how many steps to draw from `val_gen`\n",
        "# in order to see the whole validation set:\n",
        "val_steps = (90*700 - lookback) // batch_size\n",
        "\n",
        "# This is how many steps to draw from `test_gen`\n",
        "# in order to see the whole test set:\n",
        "#test_steps = (len(float_data) - 3001 - lookback) // batch_size\n",
        "\n",
        "def evaluate_naive_method():\n",
        "    batch_mae = []\n",
        "    pred = []\n",
        "    target= []\n",
        "    for step in range(20):\n",
        "        samples, targets = next(val_gen)\n",
        "        pred.append(np.mean(targets[-21:-2]))\n",
        "        target.append(targets[-1])\n",
        "        mae = np.abs((pred[-1] - target[-1]))\n",
        "        batch_mae.append(mae)\n",
        "    print(np.mean(batch_mae))\n",
        "    return pred,target\n",
        "\n",
        "# Let's plot the most recent validation batch\n",
        "preds,targets = evaluate_naive_method()\n",
        "plt.plot(range(len(preds)),preds)\n",
        "plt.plot(range(len(targets)),targets)\n",
        "plt.title(\"Orange: real stock price\\nBlue: predict stock price\")\n",
        "plt.show()"
      ],
      "metadata": {
        "colab": {
          "base_uri": "https://localhost:8080/",
          "height": 400
        },
        "id": "m3fQ7wdBl1nP",
        "outputId": "23b76e66-5995-48d0-9121-c5907d82b650"
      },
      "execution_count": 434,
      "outputs": [
        {
          "output_type": "stream",
          "name": "stderr",
          "text": [
            "/usr/local/lib/python3.7/dist-packages/pandas/core/frame.py:4913: SettingWithCopyWarning: \n",
            "A value is trying to be set on a copy of a slice from a DataFrame\n",
            "\n",
            "See the caveats in the documentation: https://pandas.pydata.org/pandas-docs/stable/user_guide/indexing.html#returning-a-view-versus-a-copy\n",
            "  errors=errors,\n"
          ]
        },
        {
          "output_type": "stream",
          "name": "stdout",
          "text": [
            "0.4938731438410368\n"
          ]
        },
        {
          "output_type": "display_data",
          "data": {
            "text/plain": [
              "<Figure size 432x288 with 1 Axes>"
            ],
            "image/png": "[encoded data removed]"
          },
          "metadata": {
            "needs_background": "light"
          }
        }
      ]
    },
    {
      "cell_type": "markdown",
      "source": [
        "## First try using dense nerual network"
      ],
      "metadata": {
        "id": "QWssl6cWOIcq"
      }
    },
    {
      "cell_type": "code",
      "source": [
        "from keras.models import Sequential\n",
        "from tensorflow.keras.layers import Conv1D, Dense, Flatten, LSTM, GRU, Dropout, MaxPool1D\n",
        "from tensorflow.keras.optimizers import RMSprop, Adam"
      ],
      "metadata": {
        "id": "ElFriI3WbAZc"
      },
      "execution_count": 435,
      "outputs": []
    },
    {
      "cell_type": "code",
      "source": [
        "# fit the model with two hidden layers\n",
        "model = Sequential()\n",
        "model.add(Flatten())\n",
        "model.add(Dense(256,activation='relu'))\n",
        "model.add(Dense(128, activation='relu'))\n",
        "model.add(Dense(1, activation='relu'))\n",
        "\n",
        "model.compile(loss='mae', optimizer='RMSprop')\n",
        "\n",
        "model_fit = model.fit_generator(train_gen, epochs=80,steps_per_epoch=18,validation_data=val_gen,validation_steps=20)"
      ],
      "metadata": {
        "colab": {
          "base_uri": "https://localhost:8080/"
        },
        "id": "Pgl8vZ5GETW9",
        "outputId": "eb70f6f2-f183-4c60-f0df-780f26d41f15"
      },
      "execution_count": 436,
      "outputs": [
        {
          "output_type": "stream",
          "name": "stdout",
          "text": [
            "Epoch 1/80\n"
          ]
        },
        {
          "output_type": "stream",
          "name": "stderr",
          "text": [
            "/usr/local/lib/python3.7/dist-packages/ipykernel_launcher.py:10: UserWarning: `Model.fit_generator` is deprecated and will be removed in a future version. Please use `Model.fit`, which supports generators.\n",
            "  # Remove the CWD from sys.path while we load stuff.\n",
            "/usr/local/lib/python3.7/dist-packages/pandas/core/frame.py:4913: SettingWithCopyWarning: \n",
            "A value is trying to be set on a copy of a slice from a DataFrame\n",
            "\n",
            "See the caveats in the documentation: https://pandas.pydata.org/pandas-docs/stable/user_guide/indexing.html#returning-a-view-versus-a-copy\n",
            "  errors=errors,\n"
          ]
        },
        {
          "output_type": "stream",
          "name": "stdout",
          "text": [
            "18/18 [==============================] - 2s 87ms/step - loss: 0.3830 - val_loss: 1.4457\n",
            "Epoch 2/80\n",
            "18/18 [==============================] - 1s 79ms/step - loss: 0.1178 - val_loss: 1.2601\n",
            "Epoch 3/80\n",
            "18/18 [==============================] - 2s 89ms/step - loss: 0.1268 - val_loss: 0.8314\n",
            "Epoch 4/80\n",
            "18/18 [==============================] - 1s 79ms/step - loss: 0.1728 - val_loss: 0.5784\n",
            "Epoch 5/80\n",
            "18/18 [==============================] - 2s 89ms/step - loss: 0.3340 - val_loss: 0.5424\n",
            "Epoch 6/80\n",
            "18/18 [==============================] - 2s 89ms/step - loss: 0.1995 - val_loss: 0.8621\n",
            "Epoch 7/80\n",
            "18/18 [==============================] - 1s 82ms/step - loss: 0.1479 - val_loss: 1.5823\n",
            "Epoch 8/80\n",
            "18/18 [==============================] - 1s 83ms/step - loss: 0.1167 - val_loss: 1.5357\n",
            "Epoch 9/80\n",
            "18/18 [==============================] - 2s 90ms/step - loss: 0.1425 - val_loss: 0.8242\n",
            "Epoch 10/80\n",
            "18/18 [==============================] - 1s 82ms/step - loss: 0.1931 - val_loss: 0.4452\n",
            "Epoch 11/80\n",
            "18/18 [==============================] - 2s 94ms/step - loss: 0.1480 - val_loss: 0.2425\n",
            "Epoch 12/80\n",
            "18/18 [==============================] - 1s 86ms/step - loss: 0.4334 - val_loss: 0.2426\n",
            "Epoch 13/80\n",
            "18/18 [==============================] - 1s 82ms/step - loss: 1.5133 - val_loss: 0.2922\n",
            "Epoch 14/80\n",
            "18/18 [==============================] - 1s 83ms/step - loss: 1.8311 - val_loss: 0.4669\n",
            "Epoch 15/80\n",
            "18/18 [==============================] - 2s 93ms/step - loss: 1.7393 - val_loss: 0.3503\n",
            "Epoch 16/80\n",
            "18/18 [==============================] - 2s 91ms/step - loss: 1.4294 - val_loss: 0.1925\n",
            "Epoch 17/80\n",
            "18/18 [==============================] - 1s 80ms/step - loss: 1.4294 - val_loss: 0.2520\n",
            "Epoch 18/80\n",
            "18/18 [==============================] - 1s 85ms/step - loss: 1.4601 - val_loss: 0.2364\n",
            "Epoch 19/80\n",
            "18/18 [==============================] - 1s 82ms/step - loss: 1.3137 - val_loss: 0.9136\n",
            "Epoch 20/80\n",
            "18/18 [==============================] - 1s 82ms/step - loss: 1.3117 - val_loss: 1.4006\n",
            "Epoch 21/80\n",
            "18/18 [==============================] - 1s 83ms/step - loss: 1.2121 - val_loss: 1.7732\n",
            "Epoch 22/80\n",
            "18/18 [==============================] - 2s 90ms/step - loss: 0.9009 - val_loss: 2.0612\n",
            "Epoch 23/80\n",
            "18/18 [==============================] - 2s 88ms/step - loss: 0.6229 - val_loss: 1.5256\n",
            "Epoch 24/80\n",
            "18/18 [==============================] - 2s 90ms/step - loss: 0.3805 - val_loss: 1.1455\n",
            "Epoch 25/80\n",
            "18/18 [==============================] - 2s 89ms/step - loss: 0.1177 - val_loss: 0.8486\n",
            "Epoch 26/80\n",
            "18/18 [==============================] - 1s 84ms/step - loss: 0.2210 - val_loss: 0.9239\n",
            "Epoch 27/80\n",
            "18/18 [==============================] - 2s 91ms/step - loss: 0.4100 - val_loss: 0.9415\n",
            "Epoch 28/80\n",
            "18/18 [==============================] - 1s 83ms/step - loss: 0.4789 - val_loss: 0.6436\n",
            "Epoch 29/80\n",
            "18/18 [==============================] - 2s 90ms/step - loss: 0.7450 - val_loss: 0.8730\n",
            "Epoch 30/80\n",
            "18/18 [==============================] - 2s 91ms/step - loss: 0.7971 - val_loss: 0.8685\n",
            "Epoch 31/80\n",
            "18/18 [==============================] - 2s 89ms/step - loss: 0.5224 - val_loss: 0.0916\n",
            "Epoch 32/80\n",
            "18/18 [==============================] - 1s 82ms/step - loss: 0.3936 - val_loss: 0.0386\n",
            "Epoch 33/80\n",
            "18/18 [==============================] - 2s 90ms/step - loss: 0.6188 - val_loss: 0.0728\n",
            "Epoch 34/80\n",
            "18/18 [==============================] - 1s 85ms/step - loss: 0.7483 - val_loss: 0.4880\n",
            "Epoch 35/80\n",
            "18/18 [==============================] - 2s 91ms/step - loss: 1.2309 - val_loss: 0.5357\n",
            "Epoch 36/80\n",
            "18/18 [==============================] - 1s 83ms/step - loss: 1.4871 - val_loss: 0.5768\n",
            "Epoch 37/80\n",
            "18/18 [==============================] - 1s 81ms/step - loss: 1.4029 - val_loss: 0.3722\n",
            "Epoch 38/80\n",
            "18/18 [==============================] - 2s 90ms/step - loss: 1.5541 - val_loss: 0.3365\n",
            "Epoch 39/80\n",
            "18/18 [==============================] - 1s 85ms/step - loss: 1.9535 - val_loss: 0.2515\n",
            "Epoch 40/80\n",
            "18/18 [==============================] - 2s 94ms/step - loss: 1.1976 - val_loss: 0.2900\n",
            "Epoch 41/80\n",
            "18/18 [==============================] - 2s 90ms/step - loss: 1.0553 - val_loss: 1.1823\n",
            "Epoch 42/80\n",
            "18/18 [==============================] - 2s 92ms/step - loss: 0.8416 - val_loss: 1.6456\n",
            "Epoch 43/80\n",
            "18/18 [==============================] - 1s 82ms/step - loss: 0.7035 - val_loss: 1.8089\n",
            "Epoch 44/80\n",
            "18/18 [==============================] - 2s 91ms/step - loss: 0.9384 - val_loss: 1.4466\n",
            "Epoch 45/80\n",
            "18/18 [==============================] - 1s 84ms/step - loss: 0.9453 - val_loss: 1.3465\n",
            "Epoch 46/80\n",
            "18/18 [==============================] - 2s 94ms/step - loss: 0.7973 - val_loss: 1.3483\n",
            "Epoch 47/80\n",
            "18/18 [==============================] - 1s 83ms/step - loss: 0.4868 - val_loss: 1.3017\n",
            "Epoch 48/80\n",
            "18/18 [==============================] - 2s 91ms/step - loss: 0.3058 - val_loss: 0.9862\n",
            "Epoch 49/80\n",
            "18/18 [==============================] - 2s 90ms/step - loss: 0.1096 - val_loss: 0.6313\n",
            "Epoch 50/80\n",
            "18/18 [==============================] - 1s 80ms/step - loss: 0.0610 - val_loss: 0.2011\n",
            "Epoch 51/80\n",
            "18/18 [==============================] - 2s 89ms/step - loss: 0.1734 - val_loss: 0.2250\n",
            "Epoch 52/80\n",
            "18/18 [==============================] - 1s 83ms/step - loss: 1.3874 - val_loss: 0.6225\n",
            "Epoch 53/80\n",
            "18/18 [==============================] - 1s 85ms/step - loss: 2.1470 - val_loss: 1.0233\n",
            "Epoch 54/80\n",
            "18/18 [==============================] - 2s 90ms/step - loss: 1.8122 - val_loss: 1.2788\n",
            "Epoch 55/80\n",
            "18/18 [==============================] - 1s 82ms/step - loss: 1.3649 - val_loss: 1.5278\n",
            "Epoch 56/80\n",
            "18/18 [==============================] - 2s 90ms/step - loss: 0.9290 - val_loss: 1.6501\n",
            "Epoch 57/80\n",
            "18/18 [==============================] - 2s 91ms/step - loss: 0.5752 - val_loss: 1.2956\n",
            "Epoch 58/80\n",
            "18/18 [==============================] - 1s 83ms/step - loss: 0.2147 - val_loss: 1.1105\n",
            "Epoch 59/80\n",
            "18/18 [==============================] - 1s 83ms/step - loss: 0.1260 - val_loss: 1.1542\n",
            "Epoch 60/80\n",
            "18/18 [==============================] - 2s 90ms/step - loss: 0.1980 - val_loss: 1.1599\n",
            "Epoch 61/80\n",
            "18/18 [==============================] - 1s 84ms/step - loss: 0.3596 - val_loss: 1.2536\n",
            "Epoch 62/80\n",
            "18/18 [==============================] - 2s 89ms/step - loss: 0.6380 - val_loss: 0.8907\n",
            "Epoch 63/80\n",
            "18/18 [==============================] - 1s 82ms/step - loss: 0.5453 - val_loss: 0.9409\n",
            "Epoch 64/80\n",
            "18/18 [==============================] - 1s 86ms/step - loss: 0.4427 - val_loss: 0.8447\n",
            "Epoch 65/80\n",
            "18/18 [==============================] - 1s 80ms/step - loss: 0.4321 - val_loss: 0.9863\n",
            "Epoch 66/80\n",
            "18/18 [==============================] - 2s 89ms/step - loss: 0.8045 - val_loss: 0.8861\n",
            "Epoch 67/80\n",
            "18/18 [==============================] - 2s 93ms/step - loss: 1.2909 - val_loss: 0.7455\n",
            "Epoch 68/80\n",
            "18/18 [==============================] - 1s 84ms/step - loss: 1.6016 - val_loss: 0.7480\n",
            "Epoch 69/80\n",
            "18/18 [==============================] - 1s 81ms/step - loss: 1.7117 - val_loss: 0.7950\n",
            "Epoch 70/80\n",
            "18/18 [==============================] - 2s 90ms/step - loss: 1.4398 - val_loss: 0.8550\n",
            "Epoch 71/80\n",
            "18/18 [==============================] - 1s 81ms/step - loss: 1.4523 - val_loss: 0.8671\n",
            "Epoch 72/80\n",
            "18/18 [==============================] - 1s 82ms/step - loss: 1.2161 - val_loss: 0.8648\n",
            "Epoch 73/80\n",
            "18/18 [==============================] - 1s 83ms/step - loss: 0.9721 - val_loss: 0.7161\n",
            "Epoch 74/80\n",
            "18/18 [==============================] - 2s 91ms/step - loss: 0.6743 - val_loss: 0.6440\n",
            "Epoch 75/80\n",
            "18/18 [==============================] - 1s 83ms/step - loss: 0.8000 - val_loss: 1.0290\n",
            "Epoch 76/80\n",
            "18/18 [==============================] - 1s 81ms/step - loss: 0.9205 - val_loss: 0.8925\n",
            "Epoch 77/80\n",
            "18/18 [==============================] - 2s 90ms/step - loss: 0.8983 - val_loss: 0.6809\n",
            "Epoch 78/80\n",
            "18/18 [==============================] - 2s 91ms/step - loss: 0.8677 - val_loss: 0.6221\n",
            "Epoch 79/80\n",
            "18/18 [==============================] - 1s 82ms/step - loss: 0.3821 - val_loss: 0.5551\n",
            "Epoch 80/80\n",
            "18/18 [==============================] - 1s 84ms/step - loss: 0.3026 - val_loss: 0.3924\n"
          ]
        }
      ]
    },
    {
      "cell_type": "code",
      "source": [
        "loss = model_fit.history['loss']\n",
        "val_loss = model_fit.history['val_loss']\n",
        "\n",
        "epochs = range(len(loss))\n",
        "\n",
        "plt.figure()\n",
        "\n",
        "plt.plot(epochs, loss, 'r', label='Training loss')\n",
        "plt.plot(epochs, val_loss, 'b', label='Validation loss')\n",
        "plt.title('Training and validation loss')\n",
        "plt.legend()\n",
        "\n",
        "plt.show()"
      ],
      "metadata": {
        "colab": {
          "base_uri": "https://localhost:8080/",
          "height": 281
        },
        "id": "jXuuEK6zjOWw",
        "outputId": "4ed71e40-71d2-4838-fa5e-31fd65039131"
      },
      "execution_count": 437,
      "outputs": [
        {
          "output_type": "display_data",
          "data": {
            "text/plain": [
              "<Figure size 432x288 with 1 Axes>"
            ],
            "image/png": "[encoded data removed]"
          },
          "metadata": {
            "needs_background": "light"
          }
        }
      ]
    },
    {
      "cell_type": "code",
      "source": [
        "model.summary()"
      ],
      "metadata": {
        "colab": {
          "base_uri": "https://localhost:8080/"
        },
        "id": "hDyXvc8pWE40",
        "outputId": "37532a32-eaa6-4c2c-b6c5-3c599189306c"
      },
      "execution_count": 438,
      "outputs": [
        {
          "output_type": "stream",
          "name": "stdout",
          "text": [
            "Model: \"sequential_16\"\n",
            "_________________________________________________________________\n",
            " Layer (type)                Output Shape              Param #   \n",
            "=================================================================\n",
            " flatten_3 (Flatten)         (None, None)              0         \n",
            "                                                                 \n",
            " dense_32 (Dense)            (None, 256)               69376     \n",
            "                                                                 \n",
            " dense_33 (Dense)            (None, 128)               32896     \n",
            "                                                                 \n",
            " dense_34 (Dense)            (None, 1)                 129       \n",
            "                                                                 \n",
            "=================================================================\n",
            "Total params: 102,401\n",
            "Trainable params: 102,401\n",
            "Non-trainable params: 0\n",
            "_________________________________________________________________\n"
          ]
        }
      ]
    },
    {
      "cell_type": "markdown",
      "source": [
        "## Add a Conv1D layer as a window"
      ],
      "metadata": {
        "id": "SrD8nuPDwCZd"
      }
    },
    {
      "cell_type": "code",
      "source": [
        "model2 = Sequential()\n",
        "\n",
        "model2.add(Conv1D(18,5))\n",
        "model2.add(MaxPool1D(2))\n",
        "model2.add(Flatten())\n",
        "model2.add(Dense(512,activation='relu'))\n",
        "model2.add(Dense(256, activation='relu'))\n",
        "model2.add(Dense(1, activation='relu'))\n",
        "\n",
        "model2.compile(loss='mae', optimizer='RMSprop',metrics=['mse','mae'])\n",
        "model2_fit = model2.fit_generator(train_gen, epochs=80,steps_per_epoch=18,validation_data=val_gen,validation_steps=20)\n"
      ],
      "metadata": {
        "colab": {
          "base_uri": "https://localhost:8080/"
        },
        "id": "szPl3j_8gmb0",
        "outputId": "54f69dae-cdfc-4212-eab1-db9addf325e6"
      },
      "execution_count": 439,
      "outputs": [
        {
          "output_type": "stream",
          "name": "stderr",
          "text": [
            "/usr/local/lib/python3.7/dist-packages/ipykernel_launcher.py:11: UserWarning: `Model.fit_generator` is deprecated and will be removed in a future version. Please use `Model.fit`, which supports generators.\n",
            "  # This is added back by InteractiveShellApp.init_path()\n",
            "/usr/local/lib/python3.7/dist-packages/pandas/core/frame.py:4913: SettingWithCopyWarning: \n",
            "A value is trying to be set on a copy of a slice from a DataFrame\n",
            "\n",
            "See the caveats in the documentation: https://pandas.pydata.org/pandas-docs/stable/user_guide/indexing.html#returning-a-view-versus-a-copy\n",
            "  errors=errors,\n"
          ]
        },
        {
          "output_type": "stream",
          "name": "stdout",
          "text": [
            "Epoch 1/80\n",
            "18/18 [==============================] - 2s 98ms/step - loss: 0.1775 - mse: 0.0506 - mae: 0.1775 - val_loss: 0.3636 - val_mse: 0.1437 - val_mae: 0.3636\n",
            "Epoch 2/80\n",
            "18/18 [==============================] - 1s 86ms/step - loss: 0.1770 - mse: 0.0484 - mae: 0.1770 - val_loss: 0.2668 - val_mse: 0.0781 - val_mae: 0.2668\n",
            "Epoch 3/80\n",
            "18/18 [==============================] - 1s 86ms/step - loss: 0.4527 - mse: 0.2553 - mae: 0.4527 - val_loss: 0.1479 - val_mse: 0.0321 - val_mae: 0.1479\n",
            "Epoch 4/80\n",
            "18/18 [==============================] - 2s 91ms/step - loss: 0.2507 - mse: 0.0976 - mae: 0.2507 - val_loss: 0.0649 - val_mse: 0.0059 - val_mae: 0.0649\n",
            "Epoch 5/80\n",
            "18/18 [==============================] - 2s 91ms/step - loss: 0.1924 - mse: 0.0441 - mae: 0.1924 - val_loss: 0.0772 - val_mse: 0.0100 - val_mae: 0.0772\n",
            "Epoch 6/80\n",
            "18/18 [==============================] - 1s 84ms/step - loss: 0.2857 - mse: 0.0904 - mae: 0.2857 - val_loss: 0.2470 - val_mse: 0.0748 - val_mae: 0.2470\n",
            "Epoch 7/80\n",
            "18/18 [==============================] - 1s 83ms/step - loss: 0.1708 - mse: 0.0484 - mae: 0.1708 - val_loss: 0.1679 - val_mse: 0.0376 - val_mae: 0.1679\n",
            "Epoch 8/80\n",
            "18/18 [==============================] - 1s 82ms/step - loss: 0.2281 - mse: 0.0606 - mae: 0.2281 - val_loss: 0.3312 - val_mse: 0.1174 - val_mae: 0.3312\n",
            "Epoch 9/80\n",
            "18/18 [==============================] - 1s 83ms/step - loss: 0.2271 - mse: 0.0593 - mae: 0.2271 - val_loss: 0.4743 - val_mse: 0.2550 - val_mae: 0.4743\n",
            "Epoch 10/80\n",
            "18/18 [==============================] - 1s 83ms/step - loss: 0.1911 - mse: 0.0563 - mae: 0.1911 - val_loss: 0.8850 - val_mse: 0.8005 - val_mae: 0.8850\n",
            "Epoch 11/80\n",
            "18/18 [==============================] - 2s 90ms/step - loss: 1.0609 - mse: 1.9998 - mae: 1.0609 - val_loss: 1.1888 - val_mse: 1.4263 - val_mae: 1.1888\n",
            "Epoch 12/80\n",
            "18/18 [==============================] - 2s 93ms/step - loss: 2.5280 - mse: 7.0821 - mae: 2.5280 - val_loss: 1.4424 - val_mse: 2.0911 - val_mae: 1.4424\n",
            "Epoch 13/80\n",
            "18/18 [==============================] - 2s 92ms/step - loss: 1.5382 - mse: 2.5625 - mae: 1.5382 - val_loss: 1.5569 - val_mse: 2.4351 - val_mae: 1.5569\n",
            "Epoch 14/80\n",
            "18/18 [==============================] - 1s 83ms/step - loss: 1.7695 - mse: 3.2721 - mae: 1.7695 - val_loss: 1.6371 - val_mse: 2.7529 - val_mae: 1.6371\n",
            "Epoch 15/80\n",
            "18/18 [==============================] - 2s 92ms/step - loss: 1.4211 - mse: 2.1244 - mae: 1.4211 - val_loss: 2.2065 - val_mse: 4.9183 - val_mae: 2.2065\n",
            "Epoch 16/80\n",
            "18/18 [==============================] - 1s 84ms/step - loss: 1.3933 - mse: 2.0275 - mae: 1.3933 - val_loss: 2.2360 - val_mse: 5.0425 - val_mae: 2.2360\n",
            "Epoch 17/80\n",
            "18/18 [==============================] - 2s 91ms/step - loss: 0.8496 - mse: 0.7786 - mae: 0.8496 - val_loss: 1.5900 - val_mse: 2.6200 - val_mae: 1.5900\n",
            "Epoch 18/80\n",
            "18/18 [==============================] - 1s 87ms/step - loss: 0.9689 - mse: 0.9791 - mae: 0.9689 - val_loss: 1.1993 - val_mse: 1.4699 - val_mae: 1.1993\n",
            "Epoch 19/80\n",
            "18/18 [==============================] - 2s 90ms/step - loss: 0.8057 - mse: 0.7727 - mae: 0.8057 - val_loss: 1.0791 - val_mse: 1.1717 - val_mae: 1.0791\n",
            "Epoch 20/80\n",
            "18/18 [==============================] - 2s 93ms/step - loss: 0.2353 - mse: 0.0890 - mae: 0.2353 - val_loss: 0.8895 - val_mse: 0.7943 - val_mae: 0.8895\n",
            "Epoch 21/80\n",
            "18/18 [==============================] - 1s 84ms/step - loss: 0.1746 - mse: 0.0500 - mae: 0.1746 - val_loss: 0.7944 - val_mse: 0.6332 - val_mae: 0.7944\n",
            "Epoch 22/80\n",
            "18/18 [==============================] - 2s 92ms/step - loss: 0.1570 - mse: 0.0303 - mae: 0.1570 - val_loss: 0.7180 - val_mse: 0.5176 - val_mae: 0.7180\n",
            "Epoch 23/80\n",
            "18/18 [==============================] - 2s 91ms/step - loss: 0.1697 - mse: 0.0389 - mae: 0.1697 - val_loss: 0.7617 - val_mse: 0.5828 - val_mae: 0.7617\n",
            "Epoch 24/80\n",
            "18/18 [==============================] - 1s 84ms/step - loss: 0.1338 - mse: 0.0250 - mae: 0.1338 - val_loss: 0.8015 - val_mse: 0.6477 - val_mae: 0.8015\n",
            "Epoch 25/80\n",
            "18/18 [==============================] - 1s 84ms/step - loss: 0.2532 - mse: 0.1123 - mae: 0.2532 - val_loss: 0.8113 - val_mse: 0.6598 - val_mae: 0.8113\n",
            "Epoch 26/80\n",
            "18/18 [==============================] - 2s 92ms/step - loss: 0.3868 - mse: 0.2106 - mae: 0.3868 - val_loss: 0.7508 - val_mse: 0.5700 - val_mae: 0.7508\n",
            "Epoch 27/80\n",
            "18/18 [==============================] - 1s 82ms/step - loss: 0.8991 - mse: 0.8400 - mae: 0.8991 - val_loss: 0.5273 - val_mse: 0.2837 - val_mae: 0.5273\n",
            "Epoch 28/80\n",
            "18/18 [==============================] - 1s 83ms/step - loss: 0.8799 - mse: 0.7884 - mae: 0.8799 - val_loss: 0.5670 - val_mse: 0.3633 - val_mae: 0.5670\n",
            "Epoch 29/80\n",
            "18/18 [==============================] - 1s 83ms/step - loss: 0.7303 - mse: 0.5599 - mae: 0.7303 - val_loss: 1.1058 - val_mse: 1.2716 - val_mae: 1.1058\n",
            "Epoch 30/80\n",
            "18/18 [==============================] - 2s 91ms/step - loss: 0.6384 - mse: 0.4271 - mae: 0.6384 - val_loss: 0.8359 - val_mse: 0.7313 - val_mae: 0.8359\n",
            "Epoch 31/80\n",
            "18/18 [==============================] - 2s 91ms/step - loss: 1.0618 - mse: 1.1859 - mae: 1.0618 - val_loss: 0.4246 - val_mse: 0.2329 - val_mae: 0.4246\n",
            "Epoch 32/80\n",
            "18/18 [==============================] - 2s 93ms/step - loss: 1.2632 - mse: 1.6087 - mae: 1.2632 - val_loss: 0.2128 - val_mse: 0.0496 - val_mae: 0.2128\n",
            "Epoch 33/80\n",
            "18/18 [==============================] - 1s 85ms/step - loss: 0.9120 - mse: 0.8711 - mae: 0.9120 - val_loss: 0.2845 - val_mse: 0.0848 - val_mae: 0.2845\n",
            "Epoch 34/80\n",
            "18/18 [==============================] - 1s 83ms/step - loss: 1.0441 - mse: 1.1749 - mae: 1.0441 - val_loss: 0.2999 - val_mse: 0.0952 - val_mae: 0.2999\n",
            "Epoch 35/80\n",
            "18/18 [==============================] - 2s 90ms/step - loss: 1.2136 - mse: 1.4934 - mae: 1.2136 - val_loss: 0.3921 - val_mse: 0.1599 - val_mae: 0.3921\n",
            "Epoch 36/80\n",
            "18/18 [==============================] - 1s 83ms/step - loss: 1.4418 - mse: 2.1196 - mae: 1.4418 - val_loss: 0.4794 - val_mse: 0.2568 - val_mae: 0.4794\n",
            "Epoch 37/80\n",
            "18/18 [==============================] - 2s 91ms/step - loss: 1.7459 - mse: 3.0657 - mae: 1.7459 - val_loss: 0.2533 - val_mse: 0.0841 - val_mae: 0.2533\n",
            "Epoch 38/80\n",
            "18/18 [==============================] - 2s 86ms/step - loss: 1.7553 - mse: 3.1234 - mae: 1.7553 - val_loss: 0.1856 - val_mse: 0.0423 - val_mae: 0.1856\n",
            "Epoch 39/80\n",
            "18/18 [==============================] - 1s 85ms/step - loss: 1.3630 - mse: 1.8705 - mae: 1.3630 - val_loss: 0.0421 - val_mse: 0.0032 - val_mae: 0.0421\n",
            "Epoch 40/80\n",
            "18/18 [==============================] - 2s 91ms/step - loss: 1.1585 - mse: 1.4033 - mae: 1.1585 - val_loss: 0.1514 - val_mse: 0.0311 - val_mae: 0.1514\n",
            "Epoch 41/80\n",
            "18/18 [==============================] - 1s 83ms/step - loss: 0.6998 - mse: 0.5118 - mae: 0.6998 - val_loss: 0.1106 - val_mse: 0.0192 - val_mae: 0.1106\n",
            "Epoch 42/80\n",
            "18/18 [==============================] - 1s 85ms/step - loss: 0.5452 - mse: 0.3068 - mae: 0.5452 - val_loss: 0.7628 - val_mse: 0.7327 - val_mae: 0.7628\n",
            "Epoch 43/80\n",
            "18/18 [==============================] - 2s 91ms/step - loss: 0.6350 - mse: 0.4173 - mae: 0.6350 - val_loss: 1.0268 - val_mse: 1.0578 - val_mae: 1.0268\n",
            "Epoch 44/80\n",
            "18/18 [==============================] - 2s 92ms/step - loss: 0.6006 - mse: 0.3862 - mae: 0.6006 - val_loss: 1.1401 - val_mse: 1.3162 - val_mae: 1.1401\n",
            "Epoch 45/80\n",
            "18/18 [==============================] - 2s 91ms/step - loss: 0.8744 - mse: 0.7919 - mae: 0.8744 - val_loss: 1.4343 - val_mse: 2.0653 - val_mae: 1.4343\n",
            "Epoch 46/80\n",
            "18/18 [==============================] - 2s 95ms/step - loss: 0.9259 - mse: 0.8675 - mae: 0.9259 - val_loss: 1.6341 - val_mse: 2.6902 - val_mae: 1.6341\n",
            "Epoch 47/80\n",
            "18/18 [==============================] - 2s 92ms/step - loss: 0.6311 - mse: 0.4341 - mae: 0.6311 - val_loss: 1.5878 - val_mse: 2.5394 - val_mae: 1.5878\n",
            "Epoch 48/80\n",
            "18/18 [==============================] - 2s 89ms/step - loss: 0.2716 - mse: 0.0903 - mae: 0.2716 - val_loss: 1.7445 - val_mse: 3.0776 - val_mae: 1.7445\n",
            "Epoch 49/80\n",
            "18/18 [==============================] - 2s 92ms/step - loss: 0.1813 - mse: 0.0443 - mae: 0.1813 - val_loss: 2.0019 - val_mse: 4.0196 - val_mae: 2.0019\n",
            "Epoch 50/80\n",
            "18/18 [==============================] - 2s 93ms/step - loss: 0.3045 - mse: 0.1800 - mae: 0.3045 - val_loss: 1.9629 - val_mse: 3.9172 - val_mae: 1.9629\n",
            "Epoch 51/80\n",
            "18/18 [==============================] - 1s 83ms/step - loss: 1.4950 - mse: 2.7959 - mae: 1.4950 - val_loss: 1.1465 - val_mse: 1.4062 - val_mae: 1.1465\n",
            "Epoch 52/80\n",
            "18/18 [==============================] - 2s 92ms/step - loss: 1.2922 - mse: 1.9935 - mae: 1.2922 - val_loss: 0.2316 - val_mse: 0.1017 - val_mae: 0.2316\n",
            "Epoch 53/80\n",
            "18/18 [==============================] - 2s 89ms/step - loss: 0.7459 - mse: 0.7519 - mae: 0.7459 - val_loss: 0.3048 - val_mse: 0.1036 - val_mae: 0.3048\n",
            "Epoch 54/80\n",
            "18/18 [==============================] - 1s 85ms/step - loss: 0.3775 - mse: 0.2073 - mae: 0.3775 - val_loss: 0.3450 - val_mse: 0.1228 - val_mae: 0.3450\n",
            "Epoch 55/80\n",
            "18/18 [==============================] - 1s 83ms/step - loss: 0.5162 - mse: 0.3182 - mae: 0.5162 - val_loss: 0.8494 - val_mse: 0.8294 - val_mae: 0.8494\n",
            "Epoch 56/80\n",
            "18/18 [==============================] - 2s 91ms/step - loss: 0.2013 - mse: 0.0640 - mae: 0.2013 - val_loss: 0.8528 - val_mse: 0.7727 - val_mae: 0.8528\n",
            "Epoch 57/80\n",
            "18/18 [==============================] - 1s 84ms/step - loss: 0.3024 - mse: 0.1202 - mae: 0.3024 - val_loss: 0.7330 - val_mse: 0.5453 - val_mae: 0.7330\n",
            "Epoch 58/80\n",
            "18/18 [==============================] - 1s 86ms/step - loss: 0.1466 - mse: 0.0386 - mae: 0.1466 - val_loss: 0.4602 - val_mse: 0.2363 - val_mae: 0.4602\n",
            "Epoch 59/80\n",
            "18/18 [==============================] - 1s 83ms/step - loss: 0.2015 - mse: 0.0867 - mae: 0.2015 - val_loss: 0.2779 - val_mse: 0.0833 - val_mae: 0.2779\n",
            "Epoch 60/80\n",
            "18/18 [==============================] - 1s 83ms/step - loss: 0.5204 - mse: 0.4548 - mae: 0.5204 - val_loss: 0.2045 - val_mse: 0.0501 - val_mae: 0.2045\n",
            "Epoch 61/80\n",
            "18/18 [==============================] - 1s 84ms/step - loss: 0.1460 - mse: 0.0360 - mae: 0.1460 - val_loss: 0.5047 - val_mse: 0.2987 - val_mae: 0.5047\n",
            "Epoch 62/80\n",
            "18/18 [==============================] - 1s 85ms/step - loss: 0.1294 - mse: 0.0258 - mae: 0.1294 - val_loss: 1.1704 - val_mse: 1.4542 - val_mae: 1.1704\n",
            "Epoch 63/80\n",
            "18/18 [==============================] - 2s 91ms/step - loss: 0.2146 - mse: 0.1108 - mae: 0.2146 - val_loss: 1.3677 - val_mse: 1.8825 - val_mae: 1.3677\n",
            "Epoch 64/80\n",
            "18/18 [==============================] - 2s 95ms/step - loss: 0.6864 - mse: 0.5245 - mae: 0.6864 - val_loss: 1.2235 - val_mse: 1.5056 - val_mae: 1.2235\n",
            "Epoch 65/80\n",
            "18/18 [==============================] - 2s 94ms/step - loss: 0.7397 - mse: 0.5941 - mae: 0.7397 - val_loss: 1.1282 - val_mse: 1.2851 - val_mae: 1.1282\n",
            "Epoch 66/80\n",
            "18/18 [==============================] - 1s 84ms/step - loss: 1.2828 - mse: 1.7558 - mae: 1.2828 - val_loss: 1.1699 - val_mse: 1.3726 - val_mae: 1.1699\n",
            "Epoch 67/80\n",
            "18/18 [==============================] - 2s 91ms/step - loss: 2.1844 - mse: 5.0305 - mae: 2.1844 - val_loss: 1.1833 - val_mse: 1.4045 - val_mae: 1.1833\n",
            "Epoch 68/80\n",
            "18/18 [==============================] - 2s 93ms/step - loss: 2.0910 - mse: 4.5741 - mae: 2.0910 - val_loss: 1.1153 - val_mse: 1.2588 - val_mae: 1.1153\n",
            "Epoch 69/80\n",
            "18/18 [==============================] - 1s 85ms/step - loss: 1.0568 - mse: 1.2884 - mae: 1.0568 - val_loss: 1.0966 - val_mse: 1.2171 - val_mae: 1.0966\n",
            "Epoch 70/80\n",
            "18/18 [==============================] - 1s 86ms/step - loss: 0.4620 - mse: 0.2863 - mae: 0.4620 - val_loss: 0.9192 - val_mse: 0.8707 - val_mae: 0.9192\n",
            "Epoch 71/80\n",
            "18/18 [==============================] - 2s 92ms/step - loss: 0.4535 - mse: 0.2569 - mae: 0.4535 - val_loss: 0.3520 - val_mse: 0.1867 - val_mae: 0.3520\n",
            "Epoch 72/80\n",
            "18/18 [==============================] - 1s 83ms/step - loss: 0.9846 - mse: 1.0451 - mae: 0.9846 - val_loss: 0.1060 - val_mse: 0.0131 - val_mae: 0.1060\n",
            "Epoch 73/80\n",
            "18/18 [==============================] - 1s 84ms/step - loss: 1.4412 - mse: 2.1442 - mae: 1.4412 - val_loss: 0.2368 - val_mse: 0.0693 - val_mae: 0.2368\n",
            "Epoch 74/80\n",
            "18/18 [==============================] - 1s 83ms/step - loss: 1.2456 - mse: 1.6324 - mae: 1.2456 - val_loss: 0.2461 - val_mse: 0.0862 - val_mae: 0.2461\n",
            "Epoch 75/80\n",
            "18/18 [==============================] - 2s 93ms/step - loss: 1.0291 - mse: 1.0734 - mae: 1.0291 - val_loss: 0.6093 - val_mse: 0.3937 - val_mae: 0.6093\n",
            "Epoch 76/80\n",
            "18/18 [==============================] - 2s 88ms/step - loss: 1.1780 - mse: 1.4050 - mae: 1.1780 - val_loss: 0.8068 - val_mse: 0.6580 - val_mae: 0.8068\n",
            "Epoch 77/80\n",
            "18/18 [==============================] - 1s 85ms/step - loss: 0.9737 - mse: 0.9902 - mae: 0.9737 - val_loss: 0.9902 - val_mse: 0.9971 - val_mae: 0.9902\n",
            "Epoch 78/80\n",
            "18/18 [==============================] - 2s 93ms/step - loss: 0.8555 - mse: 0.7605 - mae: 0.8555 - val_loss: 1.0393 - val_mse: 1.0906 - val_mae: 1.0393\n",
            "Epoch 79/80\n",
            "18/18 [==============================] - 2s 93ms/step - loss: 0.7532 - mse: 0.5769 - mae: 0.7532 - val_loss: 1.0465 - val_mse: 1.1091 - val_mae: 1.0465\n",
            "Epoch 80/80\n",
            "18/18 [==============================] - 1s 86ms/step - loss: 0.5817 - mse: 0.3475 - mae: 0.5817 - val_loss: 1.4844 - val_mse: 2.2627 - val_mae: 1.4844\n"
          ]
        }
      ]
    },
    {
      "cell_type": "code",
      "source": [
        "model2.summary()"
      ],
      "metadata": {
        "colab": {
          "base_uri": "https://localhost:8080/"
        },
        "id": "8YgvuP_jwSOL",
        "outputId": "bcf70437-4f19-44ef-9808-77343a549acb"
      },
      "execution_count": 440,
      "outputs": [
        {
          "output_type": "stream",
          "name": "stdout",
          "text": [
            "Model: \"sequential_17\"\n",
            "_________________________________________________________________\n",
            " Layer (type)                Output Shape              Param #   \n",
            "=================================================================\n",
            " conv1d (Conv1D)             (None, None, 18)          828       \n",
            "                                                                 \n",
            " max_pooling1d (MaxPooling1D  (None, None, 18)         0         \n",
            " )                                                               \n",
            "                                                                 \n",
            " flatten_4 (Flatten)         (None, None)              0         \n",
            "                                                                 \n",
            " dense_35 (Dense)            (None, 512)               120320    \n",
            "                                                                 \n",
            " dense_36 (Dense)            (None, 256)               131328    \n",
            "                                                                 \n",
            " dense_37 (Dense)            (None, 1)                 257       \n",
            "                                                                 \n",
            "=================================================================\n",
            "Total params: 252,733\n",
            "Trainable params: 252,733\n",
            "Non-trainable params: 0\n",
            "_________________________________________________________________\n"
          ]
        }
      ]
    },
    {
      "cell_type": "code",
      "source": [
        "from matplotlib import pyplot as plt\n",
        "loss = model2_fit.history['loss']\n",
        "val_loss = model2_fit.history['val_loss']\n",
        "\n",
        "epochs = range(len(loss))\n",
        "\n",
        "plt.figure()\n",
        "\n",
        "plt.plot(epochs, loss, 'r', label='Training loss')\n",
        "plt.plot(epochs, val_loss, 'b', label='Validation loss')\n",
        "plt.title('Training and validation loss')\n",
        "plt.legend()\n",
        "\n",
        "plt.show()"
      ],
      "metadata": {
        "colab": {
          "base_uri": "https://localhost:8080/",
          "height": 281
        },
        "id": "5T0BOuGywSvS",
        "outputId": "1ffbac61-6bc8-449e-f725-d548b979db2a"
      },
      "execution_count": 441,
      "outputs": [
        {
          "output_type": "display_data",
          "data": {
            "text/plain": [
              "<Figure size 432x288 with 1 Axes>"
            ],
            "image/png": "[encoded data removed]"
          },
          "metadata": {
            "needs_background": "light"
          }
        }
      ]
    },
    {
      "cell_type": "markdown",
      "source": [
        "## LSTM model"
      ],
      "metadata": {
        "id": "kY1HdOtxEQ6e"
      }
    },
    {
      "cell_type": "code",
      "source": [
        "model3=Sequential()\n",
        "#model3.add(LSTM(30,return_sequences=True))\n",
        "model3.add(LSTM(30))\n",
        "#model3.add(Dense(128, activation='relu'))\n",
        "#model3.add(Dense(64, activation='relu'))\n",
        "model3.add(Dense(1,activation='relu'))\n",
        "\n",
        "model3.compile(loss='mae', optimizer='Adam',metrics=['mape'])\n",
        "\n",
        "model3_fit = model3.fit_generator(train_gen, epochs=40,steps_per_epoch=18,validation_data=val_gen,validation_steps=20)\n"
      ],
      "metadata": {
        "colab": {
          "base_uri": "https://localhost:8080/"
        },
        "id": "dRoI_zTe0wGs",
        "outputId": "81c61905-0371-4dae-c2e6-9a746657ff19"
      },
      "execution_count": 614,
      "outputs": [
        {
          "output_type": "stream",
          "name": "stderr",
          "text": [
            "/usr/local/lib/python3.7/dist-packages/ipykernel_launcher.py:10: UserWarning: `Model.fit_generator` is deprecated and will be removed in a future version. Please use `Model.fit`, which supports generators.\n",
            "  # Remove the CWD from sys.path while we load stuff.\n",
            "/usr/local/lib/python3.7/dist-packages/pandas/core/frame.py:4913: SettingWithCopyWarning: \n",
            "A value is trying to be set on a copy of a slice from a DataFrame\n",
            "\n",
            "See the caveats in the documentation: https://pandas.pydata.org/pandas-docs/stable/user_guide/indexing.html#returning-a-view-versus-a-copy\n",
            "  errors=errors,\n"
          ]
        },
        {
          "output_type": "stream",
          "name": "stdout",
          "text": [
            "Epoch 1/40\n",
            "18/18 [==============================] - 4s 114ms/step - loss: 0.7993 - mape: 67.1322 - val_loss: 0.9352 - val_mape: 100.0000\n",
            "Epoch 2/40\n",
            "18/18 [==============================] - 2s 91ms/step - loss: 0.1204 - mape: 13.8305 - val_loss: 0.7266 - val_mape: 100.0000\n",
            "Epoch 3/40\n",
            "18/18 [==============================] - 1s 83ms/step - loss: 0.0807 - mape: 12.7100 - val_loss: 0.5382 - val_mape: 101.2404\n",
            "Epoch 4/40\n",
            "18/18 [==============================] - 1s 83ms/step - loss: 0.1112 - mape: 13.4532 - val_loss: 0.3233 - val_mape: 115.5067\n",
            "Epoch 5/40\n",
            "18/18 [==============================] - 1s 84ms/step - loss: 0.1416 - mape: 18.6121 - val_loss: 0.3342 - val_mape: 179.5383\n",
            "Epoch 6/40\n",
            "18/18 [==============================] - 1s 85ms/step - loss: 0.1282 - mape: 15.0298 - val_loss: 0.4976 - val_mape: 137.2657\n",
            "Epoch 7/40\n",
            "18/18 [==============================] - 1s 83ms/step - loss: 0.1341 - mape: 56.5324 - val_loss: 1.0568 - val_mape: 103.0421\n",
            "Epoch 8/40\n",
            "18/18 [==============================] - 2s 92ms/step - loss: 0.3001 - mape: 124.5893 - val_loss: 1.4421 - val_mape: 103.9455\n",
            "Epoch 9/40\n",
            "18/18 [==============================] - 2s 92ms/step - loss: 0.2653 - mape: 101.2610 - val_loss: 1.2532 - val_mape: 100.3322\n",
            "Epoch 10/40\n",
            "18/18 [==============================] - 1s 84ms/step - loss: 0.1796 - mape: 121.4181 - val_loss: 1.1270 - val_mape: 100.0000\n",
            "Epoch 11/40\n",
            "18/18 [==============================] - 1s 85ms/step - loss: 0.1954 - mape: 99.7252 - val_loss: 1.1761 - val_mape: 100.0000\n",
            "Epoch 12/40\n",
            "18/18 [==============================] - 2s 92ms/step - loss: 0.4791 - mape: 100.0000 - val_loss: 1.1683 - val_mape: 100.0000\n",
            "Epoch 13/40\n",
            "18/18 [==============================] - 2s 95ms/step - loss: 0.1858 - mape: 96.1140 - val_loss: 1.1307 - val_mape: 100.0000\n",
            "Epoch 14/40\n",
            "18/18 [==============================] - 1s 86ms/step - loss: 0.0929 - mape: 57.2506 - val_loss: 1.1232 - val_mape: 100.0000\n",
            "Epoch 15/40\n",
            "18/18 [==============================] - 2s 93ms/step - loss: 0.0959 - mape: 158.4857 - val_loss: 0.9670 - val_mape: 100.0000\n",
            "Epoch 16/40\n",
            "18/18 [==============================] - 2s 88ms/step - loss: 0.1725 - mape: 594.8427 - val_loss: 0.4739 - val_mape: 100.0000\n",
            "Epoch 17/40\n",
            "18/18 [==============================] - 2s 88ms/step - loss: 0.2337 - mape: 100.0604 - val_loss: 0.0839 - val_mape: 78.8505\n",
            "Epoch 18/40\n",
            "18/18 [==============================] - 2s 91ms/step - loss: 0.2155 - mape: 100.2406 - val_loss: 0.1722 - val_mape: 82.0472\n",
            "Epoch 19/40\n",
            "18/18 [==============================] - 2s 92ms/step - loss: 0.2412 - mape: 100.6703 - val_loss: 0.2319 - val_mape: 185.9516\n",
            "Epoch 20/40\n",
            "18/18 [==============================] - 2s 92ms/step - loss: 1.3830 - mape: 100.0420 - val_loss: 0.4344 - val_mape: 85.7694\n",
            "Epoch 21/40\n",
            "18/18 [==============================] - 2s 96ms/step - loss: 2.4293 - mape: 100.0000 - val_loss: 0.4836 - val_mape: 61.8140\n",
            "Epoch 22/40\n",
            "18/18 [==============================] - 1s 85ms/step - loss: 1.5351 - mape: 100.0000 - val_loss: 0.6351 - val_mape: 66.3193\n",
            "Epoch 23/40\n",
            "18/18 [==============================] - 1s 85ms/step - loss: 1.7094 - mape: 100.0000 - val_loss: 0.7394 - val_mape: 69.4025\n",
            "Epoch 24/40\n",
            "18/18 [==============================] - 1s 84ms/step - loss: 1.4542 - mape: 100.0000 - val_loss: 0.6258 - val_mape: 61.7989\n",
            "Epoch 25/40\n",
            "18/18 [==============================] - 2s 90ms/step - loss: 1.2980 - mape: 100.0000 - val_loss: 0.9074 - val_mape: 64.9350\n",
            "Epoch 26/40\n",
            "18/18 [==============================] - 2s 91ms/step - loss: 0.8113 - mape: 100.0000 - val_loss: 0.9503 - val_mape: 57.2722\n",
            "Epoch 27/40\n",
            "18/18 [==============================] - 1s 84ms/step - loss: 1.0151 - mape: 100.0000 - val_loss: 1.0022 - val_mape: 60.6314\n",
            "Epoch 28/40\n",
            "18/18 [==============================] - 2s 91ms/step - loss: 0.6790 - mape: 99.9422 - val_loss: 0.9439 - val_mape: 60.6703\n",
            "Epoch 29/40\n",
            "18/18 [==============================] - 2s 91ms/step - loss: 0.1763 - mape: 154.9899 - val_loss: 1.0013 - val_mape: 59.2258\n",
            "Epoch 30/40\n",
            "18/18 [==============================] - 1s 85ms/step - loss: 0.1247 - mape: 195.0232 - val_loss: 0.9484 - val_mape: 60.6786\n",
            "Epoch 31/40\n",
            "18/18 [==============================] - 2s 92ms/step - loss: 0.1616 - mape: 99.5118 - val_loss: 0.9916 - val_mape: 100.0000\n",
            "Epoch 32/40\n",
            "18/18 [==============================] - 1s 85ms/step - loss: 0.1676 - mape: 101.3285 - val_loss: 0.9514 - val_mape: 100.0000\n",
            "Epoch 33/40\n",
            "18/18 [==============================] - 2s 92ms/step - loss: 0.1547 - mape: 159.1726 - val_loss: 0.7387 - val_mape: 100.0000\n",
            "Epoch 34/40\n",
            "18/18 [==============================] - 1s 84ms/step - loss: 0.2571 - mape: 115.8590 - val_loss: 0.7193 - val_mape: 100.0000\n",
            "Epoch 35/40\n",
            "18/18 [==============================] - 2s 91ms/step - loss: 0.3787 - mape: 86.8862 - val_loss: 0.6082 - val_mape: 100.0000\n",
            "Epoch 36/40\n",
            "18/18 [==============================] - 2s 91ms/step - loss: 0.2006 - mape: 22.4759 - val_loss: 0.6621 - val_mape: 100.0000\n",
            "Epoch 37/40\n",
            "18/18 [==============================] - 1s 85ms/step - loss: 0.0904 - mape: 11.0278 - val_loss: 0.7145 - val_mape: 100.0000\n",
            "Epoch 38/40\n",
            "18/18 [==============================] - 2s 94ms/step - loss: 0.1111 - mape: 19.5782 - val_loss: 0.7309 - val_mape: 100.0000\n",
            "Epoch 39/40\n",
            "18/18 [==============================] - 1s 86ms/step - loss: 0.0977 - mape: 14.3030 - val_loss: 0.5536 - val_mape: 100.0000\n",
            "Epoch 40/40\n",
            "18/18 [==============================] - 2s 91ms/step - loss: 0.1080 - mape: 10.1906 - val_loss: 0.6174 - val_mape: 100.0000\n"
          ]
        }
      ]
    },
    {
      "cell_type": "code",
      "source": [
        "model3.summary()"
      ],
      "metadata": {
        "colab": {
          "base_uri": "https://localhost:8080/"
        },
        "id": "Cpjd0E_H05Wo",
        "outputId": "864fb540-70ad-4a2f-d5dd-12a9c7df0bab"
      },
      "execution_count": 449,
      "outputs": [
        {
          "output_type": "stream",
          "name": "stdout",
          "text": [
            "Model: \"sequential_19\"\n",
            "_________________________________________________________________\n",
            " Layer (type)                Output Shape              Param #   \n",
            "=================================================================\n",
            " lstm_22 (LSTM)              (None, None, 30)          4800      \n",
            "                                                                 \n",
            " lstm_23 (LSTM)              (None, 30)                7320      \n",
            "                                                                 \n",
            " dense_41 (Dense)            (None, 128)               3968      \n",
            "                                                                 \n",
            " dense_42 (Dense)            (None, 64)                8256      \n",
            "                                                                 \n",
            " dense_43 (Dense)            (None, 1)                 65        \n",
            "                                                                 \n",
            "=================================================================\n",
            "Total params: 24,409\n",
            "Trainable params: 24,409\n",
            "Non-trainable params: 0\n",
            "_________________________________________________________________\n"
          ]
        }
      ]
    },
    {
      "cell_type": "code",
      "source": [
        "from matplotlib import pyplot as plt\n",
        "loss = model3_fit.history['loss']\n",
        "val_loss = model3_fit.history['val_loss']\n",
        "\n",
        "epochs = range(len(loss))\n",
        "\n",
        "plt.figure()\n",
        "\n",
        "plt.plot(epochs, loss, 'r', label='Training loss')\n",
        "plt.plot(epochs, val_loss, 'b', label='Validation loss')\n",
        "plt.title('Training and validation loss')\n",
        "plt.legend()\n",
        "\n",
        "plt.show()"
      ],
      "metadata": {
        "colab": {
          "base_uri": "https://localhost:8080/",
          "height": 281
        },
        "id": "Nu2EqaBX3Wdb",
        "outputId": "f82f8dbd-7590-4554-db4b-05bf3b92d30f"
      },
      "execution_count": 615,
      "outputs": [
        {
          "output_type": "display_data",
          "data": {
            "text/plain": [
              "<Figure size 432x288 with 1 Axes>"
            ],
            "image/png": "[encoded data removed]"
          },
          "metadata": {
            "needs_background": "light"
          }
        }
      ]
    },
    {
      "cell_type": "markdown",
      "source": [
        "## Regularization to find the best model"
      ],
      "metadata": {
        "id": "If2NCtvJ-Kjn"
      }
    },
    {
      "cell_type": "markdown",
      "source": [
        "<font color=green> From the previous three models, we can see that the LSTM model has the best fitting power and massively overfittedd the data. Therefore, we are using LSTM as a starting point to use different regularizations to fix the overfitting problem"
      ],
      "metadata": {
        "id": "BNE9li3U-PAI"
      }
    },
    {
      "cell_type": "code",
      "source": [
        "model5=Sequential()\n",
        "# here we connected two LSTM layers to further increase the complexity of the model\n",
        "model5.add(LSTM(30,dropout=0.1,recurrent_dropout=0.1,return_sequences=False))  # set the dropout rate and recurrent dropout rate to 0.2\n",
        "model5.add(Dense(128,activation='relu'))\n",
        "model5.add(Dropout(0.2))\n",
        "model5.add(Dense(1,activation='relu'))\n",
        "\n",
        "model5.compile(loss='mae', optimizer='Adam',metrics=['mape'])\n",
        "\n",
        "# add early stopping\n",
        "Es = EarlyStopping(monitor='val_loss',patience=5,restore_best_weights=True)\n",
        "model5_fit = model5.fit_generator(train_gen, \n",
        "                                  epochs=40,\n",
        "                                  steps_per_epoch=18,\n",
        "                                  validation_data=val_gen,\n",
        "                                  validation_steps=40,\n",
        "                                  callbacks=[Es])"
      ],
      "metadata": {
        "colab": {
          "base_uri": "https://localhost:8080/"
        },
        "id": "9IZumXmX-B6S",
        "outputId": "86ad3343-fe20-4fbf-fba3-a915ecd35dac"
      },
      "execution_count": 611,
      "outputs": [
        {
          "output_type": "stream",
          "name": "stdout",
          "text": [
            "WARNING:tensorflow:Layer lstm_35 will not use cuDNN kernels since it doesn't meet the criteria. It will use a generic GPU kernel as fallback when running on GPU.\n"
          ]
        },
        {
          "output_type": "stream",
          "name": "stderr",
          "text": [
            "/usr/local/lib/python3.7/dist-packages/ipykernel_launcher.py:17: UserWarning: `Model.fit_generator` is deprecated and will be removed in a future version. Please use `Model.fit`, which supports generators.\n",
            "/usr/local/lib/python3.7/dist-packages/pandas/core/frame.py:4913: SettingWithCopyWarning: \n",
            "A value is trying to be set on a copy of a slice from a DataFrame\n",
            "\n",
            "See the caveats in the documentation: https://pandas.pydata.org/pandas-docs/stable/user_guide/indexing.html#returning-a-view-versus-a-copy\n",
            "  errors=errors,\n"
          ]
        },
        {
          "output_type": "stream",
          "name": "stdout",
          "text": [
            "Epoch 1/40\n",
            "18/18 [==============================] - 7s 245ms/step - loss: 0.2612 - mape: 138.6023 - val_loss: 2.1578 - val_mape: 97.2871\n",
            "Epoch 2/40\n",
            "18/18 [==============================] - 4s 230ms/step - loss: 1.6697 - mape: 100.8485 - val_loss: 1.4224 - val_mape: 94.3894\n",
            "Epoch 3/40\n",
            "18/18 [==============================] - 4s 227ms/step - loss: 2.0693 - mape: 100.0000 - val_loss: 1.0286 - val_mape: 100.0000\n",
            "Epoch 4/40\n",
            "18/18 [==============================] - 7s 394ms/step - loss: 1.7934 - mape: 100.0000 - val_loss: 0.7817 - val_mape: 100.0000\n",
            "Epoch 5/40\n",
            "18/18 [==============================] - 4s 230ms/step - loss: 1.2423 - mape: 100.0337 - val_loss: 0.7548 - val_mape: 100.0000\n",
            "Epoch 6/40\n",
            "18/18 [==============================] - 4s 231ms/step - loss: 0.9037 - mape: 100.0137 - val_loss: 0.8141 - val_mape: 100.0000\n",
            "Epoch 7/40\n",
            "18/18 [==============================] - 4s 230ms/step - loss: 0.4884 - mape: 100.0000 - val_loss: 0.5566 - val_mape: 100.0000\n",
            "Epoch 8/40\n",
            "18/18 [==============================] - 4s 228ms/step - loss: 0.1868 - mape: 100.0000 - val_loss: 0.9586 - val_mape: 100.0000\n",
            "Epoch 9/40\n",
            "18/18 [==============================] - 4s 227ms/step - loss: 0.1243 - mape: 100.0000 - val_loss: 0.4680 - val_mape: 100.0000\n",
            "Epoch 10/40\n",
            "18/18 [==============================] - 4s 226ms/step - loss: 0.2093 - mape: 93.3659 - val_loss: 0.2817 - val_mape: 103.1595\n",
            "Epoch 11/40\n",
            "18/18 [==============================] - 4s 225ms/step - loss: 0.1132 - mape: 77.2470 - val_loss: 0.4320 - val_mape: 124.6746\n",
            "Epoch 12/40\n",
            "18/18 [==============================] - 4s 227ms/step - loss: 0.1236 - mape: 19.8753 - val_loss: 0.4555 - val_mape: 258.2180\n",
            "Epoch 13/40\n",
            "18/18 [==============================] - 4s 226ms/step - loss: 0.1019 - mape: 23.8202 - val_loss: 0.2556 - val_mape: 779.5120\n",
            "Epoch 14/40\n",
            "18/18 [==============================] - 4s 226ms/step - loss: 0.0856 - mape: 20.3271 - val_loss: 0.3181 - val_mape: 287.8470\n",
            "Epoch 15/40\n",
            "18/18 [==============================] - 4s 229ms/step - loss: 0.0827 - mape: 17.5294 - val_loss: 0.3803 - val_mape: 42.3424\n",
            "Epoch 16/40\n",
            "18/18 [==============================] - 4s 231ms/step - loss: 0.1644 - mape: 20.1914 - val_loss: 0.0946 - val_mape: 7.7303\n",
            "Epoch 17/40\n",
            "18/18 [==============================] - 4s 238ms/step - loss: 0.1321 - mape: 9.9765 - val_loss: 0.1312 - val_mape: 7.7016\n",
            "Epoch 18/40\n",
            "18/18 [==============================] - 4s 235ms/step - loss: 0.1520 - mape: 9.1649 - val_loss: 0.2234 - val_mape: 11.5684\n",
            "Epoch 19/40\n",
            "18/18 [==============================] - 4s 226ms/step - loss: 0.1590 - mape: 9.7762 - val_loss: 0.3446 - val_mape: 25.9315\n",
            "Epoch 20/40\n",
            "18/18 [==============================] - 4s 237ms/step - loss: 0.1507 - mape: 10.7504 - val_loss: 0.5619 - val_mape: 593.0613\n",
            "Epoch 21/40\n",
            "18/18 [==============================] - 4s 233ms/step - loss: 0.1292 - mape: 9.3254 - val_loss: 0.5881 - val_mape: 119.6779\n"
          ]
        }
      ]
    },
    {
      "cell_type": "code",
      "source": [
        "model5.summary()"
      ],
      "metadata": {
        "colab": {
          "base_uri": "https://localhost:8080/"
        },
        "id": "2YkJcBCbqel1",
        "outputId": "16f9bfb4-0378-498d-b7c6-e9fb50ac842c"
      },
      "execution_count": 609,
      "outputs": [
        {
          "output_type": "stream",
          "name": "stdout",
          "text": [
            "Model: \"sequential_29\"\n",
            "_________________________________________________________________\n",
            " Layer (type)                Output Shape              Param #   \n",
            "=================================================================\n",
            " lstm_34 (LSTM)              (None, 30)                4800      \n",
            "                                                                 \n",
            " dense_60 (Dense)            (None, 128)               3968      \n",
            "                                                                 \n",
            " dropout_8 (Dropout)         (None, 128)               0         \n",
            "                                                                 \n",
            " dense_61 (Dense)            (None, 1)                 129       \n",
            "                                                                 \n",
            "=================================================================\n",
            "Total params: 8,897\n",
            "Trainable params: 8,897\n",
            "Non-trainable params: 0\n",
            "_________________________________________________________________\n"
          ]
        }
      ]
    },
    {
      "cell_type": "code",
      "source": [
        "loss = model5_fit.history['loss']\n",
        "val_loss = model5_fit.history['val_loss']\n",
        "\n",
        "epochs = range(len(loss))\n",
        "\n",
        "plt.figure()\n",
        "\n",
        "plt.plot(epochs, loss, 'r', label='Training loss')\n",
        "plt.plot(epochs, val_loss, 'b', label='Validation loss')\n",
        "plt.title('Training and validation loss')\n",
        "plt.legend()\n",
        "\n",
        "plt.show()"
      ],
      "metadata": {
        "id": "KXzM67pC_vXG",
        "colab": {
          "base_uri": "https://localhost:8080/",
          "height": 281
        },
        "outputId": "f27a9fda-393e-4f1b-9ef0-2378a5e12ef3"
      },
      "execution_count": 612,
      "outputs": [
        {
          "output_type": "display_data",
          "data": {
            "text/plain": [
              "<Figure size 432x288 with 1 Axes>"
            ],
            "image/png": "[encoded data removed]"
          },
          "metadata": {
            "needs_background": "light"
          }
        }
      ]
    },
    {
      "cell_type": "code",
      "source": [
        "model5.save('/content/Stock_Pred.h5')"
      ],
      "metadata": {
        "id": "5DQrbsZthpDZ"
      },
      "execution_count": 613,
      "outputs": []
    },
    {
      "cell_type": "markdown",
      "source": [
        "# Multi period prediction"
      ],
      "metadata": {
        "id": "o9sePDP93CBt"
      }
    },
    {
      "cell_type": "markdown",
      "source": [
        "<font color=blue>Now, to demonstrate the performance of our model, we are now applying the model to make prediction on some test data."
      ],
      "metadata": {
        "id": "Xktk--8juvtM"
      }
    },
    {
      "cell_type": "markdown",
      "source": [
        "## Prediction for PNC Financial Service Group"
      ],
      "metadata": {
        "id": "iVf-yVF6YgjA"
      }
    },
    {
      "cell_type": "code",
      "source": [
        "test_tickers"
      ],
      "metadata": {
        "colab": {
          "base_uri": "https://localhost:8080/"
        },
        "id": "oYQ2R9OpeDY5",
        "outputId": "c03fb0cd-1430-41ec-d3db-b4c2fedf5e5b"
      },
      "execution_count": 587,
      "outputs": [
        {
          "output_type": "execute_result",
          "data": {
            "text/plain": [
              "array(['HST', 'AIZ', 'CNC', 'TXT', 'BEN', 'HAS', 'MCD', 'STE', 'PNC',\n",
              "       'BLL', 'UA', 'AIG', 'WEC', 'GOOGL', 'AAPL', 'LYB', 'CTAS', 'RCL',\n",
              "       'RE', 'UDR', 'DHR', 'STT', 'ANET', 'AWK', 'WBA', 'WELL', 'TDY',\n",
              "       'LNT', 'MOS', 'CCL'], dtype=object)"
            ]
          },
          "metadata": {},
          "execution_count": 587
        }
      ]
    },
    {
      "cell_type": "code",
      "source": [
        "MMM = data.loc[(data.Ticker=='PNC'),]\n",
        "MMM_target = MMM.loc[MMM.index>=(max(MMM.index)-60),]"
      ],
      "metadata": {
        "id": "VXpgCvpfulkS"
      },
      "execution_count": 598,
      "outputs": []
    },
    {
      "cell_type": "code",
      "source": [
        "test_gen = generator(MMM_target.loc[:,data.columns!='Date'],['PNC'],lookback=30,delay=0,batch_size=1,step=1,)"
      ],
      "metadata": {
        "id": "X3X0g7L0wp1x"
      },
      "execution_count": 599,
      "outputs": []
    },
    {
      "cell_type": "code",
      "source": [
        "prediction=[]\n",
        "for i in range(30):\n",
        "    pred=model5.predict_generator(test_gen,steps=1)\n",
        "    pred=pred[0][0]\n",
        "    prediction.append(pred)\n",
        "prediction"
      ],
      "metadata": {
        "colab": {
          "base_uri": "https://localhost:8080/"
        },
        "id": "djKAitLl2Hev",
        "outputId": "609b11f5-625d-4aab-82bd-e572c6801f27"
      },
      "execution_count": 600,
      "outputs": [
        {
          "output_type": "stream",
          "name": "stderr",
          "text": [
            "/usr/local/lib/python3.7/dist-packages/ipykernel_launcher.py:3: UserWarning: `Model.predict_generator` is deprecated and will be removed in a future version. Please use `Model.predict`, which supports generators.\n",
            "  This is separate from the ipykernel package so we can avoid doing imports until\n"
          ]
        },
        {
          "output_type": "execute_result",
          "data": {
            "text/plain": [
              "[1.551079,\n",
              " 1.5647913,\n",
              " 1.5088632,\n",
              " 1.4155971,\n",
              " 1.4439528,\n",
              " 1.3979284,\n",
              " 1.3194157,\n",
              " 1.3524457,\n",
              " 1.321829,\n",
              " 1.4221925,\n",
              " 1.3539958,\n",
              " 1.4130603,\n",
              " 1.3758392,\n",
              " 1.3111897,\n",
              " 1.3122069,\n",
              " 1.551079,\n",
              " 1.5647913,\n",
              " 1.5088632,\n",
              " 1.4155971,\n",
              " 1.4439528,\n",
              " 1.3979284,\n",
              " 1.3194157,\n",
              " 1.3524457,\n",
              " 1.321829,\n",
              " 1.4221925,\n",
              " 1.3539958,\n",
              " 1.4130603,\n",
              " 1.3758392,\n",
              " 1.3111897,\n",
              " 1.3122069]"
            ]
          },
          "metadata": {},
          "execution_count": 600
        }
      ]
    },
    {
      "cell_type": "code",
      "source": [
        "prediction=np.array(prediction).reshape(1,-1)"
      ],
      "metadata": {
        "id": "Srn3By23xIKj"
      },
      "execution_count": 601,
      "outputs": []
    },
    {
      "cell_type": "code",
      "source": [
        "prediction=prediction[0]"
      ],
      "metadata": {
        "id": "jVz_Tb68DQOx"
      },
      "execution_count": 602,
      "outputs": []
    },
    {
      "cell_type": "code",
      "source": [
        "actual=MMM_target.loc[MMM_target.index>=(max(MMM_target.index)-30),'Close']"
      ],
      "metadata": {
        "id": "baMzrb7Ea-9v"
      },
      "execution_count": 603,
      "outputs": []
    },
    {
      "cell_type": "code",
      "source": [
        "MMM_previous = MMM.loc[MMM.index<(max(MMM.index)-60),'Close']"
      ],
      "metadata": {
        "id": "6OW6cQPkHSub"
      },
      "execution_count": 604,
      "outputs": []
    },
    {
      "cell_type": "code",
      "source": [
        "MMM_actual = [i for i in MMM_previous[500:]]\n",
        "for i in actual:\n",
        "    MMM_actual.append(i)"
      ],
      "metadata": {
        "id": "-zOpP1l_HarK"
      },
      "execution_count": 605,
      "outputs": []
    },
    {
      "cell_type": "code",
      "source": [
        "MMM_pred=[i for i in MMM_previous[500:]]\n",
        "for i in prediction:\n",
        "    MMM_pred.append(i)"
      ],
      "metadata": {
        "id": "936lJci-I99E"
      },
      "execution_count": 606,
      "outputs": []
    },
    {
      "cell_type": "code",
      "source": [
        "plt.figure()\n",
        "\n",
        "plt.plot(range(len(MMM_pred)), MMM_pred, 'orange', label='Predicted Price')\n",
        "plt.plot(range(len(MMM_actual)), MMM_actual, 'b', label='Actual Price')\n",
        "plt.title('Predicted and Actual Price')\n",
        "plt.legend()\n",
        "\n",
        "plt.show()"
      ],
      "metadata": {
        "colab": {
          "base_uri": "https://localhost:8080/",
          "height": 281
        },
        "id": "zYAiVnT907pn",
        "outputId": "a46c844b-3beb-4422-bb72-ffc2704ad52a"
      },
      "execution_count": 607,
      "outputs": [
        {
          "output_type": "display_data",
          "data": {
            "text/plain": [
              "<Figure size 432x288 with 1 Axes>"
            ],
            "image/png": "[encoded data removed]"
          },
          "metadata": {
            "needs_background": "light"
          }
        }
      ]
    },
    {
      "cell_type": "markdown",
      "source": [
        "## Prediction for Google"
      ],
      "metadata": {
        "id": "qsYOoAb4YkMM"
      }
    },
    {
      "cell_type": "code",
      "source": [
        "val_tickers"
      ],
      "metadata": {
        "colab": {
          "base_uri": "https://localhost:8080/"
        },
        "id": "SfgLZB74asPS",
        "outputId": "1301f1dc-12a3-4880-d0e3-b977cd6ca471"
      },
      "execution_count": 537,
      "outputs": [
        {
          "output_type": "execute_result",
          "data": {
            "text/plain": [
              "array(['KHC', 'IVZ', 'INTU', 'EFX', 'NTAP', 'NWSA', 'EA', 'ORCL', 'ANSS',\n",
              "       'ISRG', 'TROW', 'STX', 'MRNA', 'POOL', 'FB', 'UDR', 'LYV', 'AZO',\n",
              "       'TMUS', 'ADP', 'PKG', 'UNH', 'AEE', 'STE', 'ABMD', 'ZION', 'MDLZ',\n",
              "       'CTXS', 'EPAM', 'DXC', 'NWS', 'LW', 'MSI', 'CHTR', 'ADBE', 'ROP',\n",
              "       'MLM', 'NEM', 'WAT', 'NLOK', 'PCAR', 'NI', 'OXY', 'AMP', 'BKR',\n",
              "       'IFF', 'GILD', 'RSG', 'HAL', 'AIZ', 'BAX', 'PM', 'J', 'JBHT',\n",
              "       'PHM', 'BBY', 'STT', 'PFG', 'ABBV', 'CPT'], dtype=object)"
            ]
          },
          "metadata": {},
          "execution_count": 537
        }
      ]
    },
    {
      "cell_type": "code",
      "source": [
        "# select a stock\n",
        "MMM = data.loc[(data.Ticker=='GOOGL'),]\n",
        "MMM_target = MMM.loc[MMM.index>=(max(MMM.index)-60),]"
      ],
      "metadata": {
        "id": "Vx0RIAVSYWat"
      },
      "execution_count": 556,
      "outputs": []
    },
    {
      "cell_type": "code",
      "source": [
        "test_gen = generator(MMM_target.loc[:,data.columns!='Date'],['GOOGL'],lookback=30,delay=0,batch_size=1,step=1,)"
      ],
      "metadata": {
        "id": "iO35J-qKYWa0"
      },
      "execution_count": 576,
      "outputs": []
    },
    {
      "cell_type": "code",
      "source": [
        "prediction=[]\n",
        "for i in range(30):\n",
        "    pred=model5.predict_generator(test_gen,steps=1)\n",
        "    pred=pred[0][0]\n",
        "    prediction.append(pred)\n",
        "prediction"
      ],
      "metadata": {
        "colab": {
          "base_uri": "https://localhost:8080/"
        },
        "outputId": "f4946fb9-f73a-4c9e-ed4a-6e732751fead",
        "id": "4xcFRF1PYWa0"
      },
      "execution_count": 577,
      "outputs": [
        {
          "output_type": "stream",
          "name": "stderr",
          "text": [
            "/usr/local/lib/python3.7/dist-packages/ipykernel_launcher.py:3: UserWarning: `Model.predict_generator` is deprecated and will be removed in a future version. Please use `Model.predict`, which supports generators.\n",
            "  This is separate from the ipykernel package so we can avoid doing imports until\n"
          ]
        },
        {
          "output_type": "execute_result",
          "data": {
            "text/plain": [
              "[1.4633179,\n",
              " 1.4473536,\n",
              " 1.3505652,\n",
              " 1.2659779,\n",
              " 1.3054276,\n",
              " 1.2480649,\n",
              " 1.1766573,\n",
              " 1.238304,\n",
              " 1.2549068,\n",
              " 1.3689886,\n",
              " 1.3014928,\n",
              " 1.3429782,\n",
              " 1.3072609,\n",
              " 1.2411444,\n",
              " 1.2231569,\n",
              " 1.4633179,\n",
              " 1.4473536,\n",
              " 1.3505652,\n",
              " 1.2659779,\n",
              " 1.3054276,\n",
              " 1.2480649,\n",
              " 1.1766573,\n",
              " 1.238304,\n",
              " 1.2549068,\n",
              " 1.3689886,\n",
              " 1.3014928,\n",
              " 1.3429782,\n",
              " 1.3072609,\n",
              " 1.2411444,\n",
              " 1.2231569]"
            ]
          },
          "metadata": {},
          "execution_count": 577
        }
      ]
    },
    {
      "cell_type": "code",
      "source": [
        "prediction=np.array(prediction).reshape(1,-1)\n",
        "prediction=prediction[0]"
      ],
      "metadata": {
        "id": "MzxDiIeJYWa0"
      },
      "execution_count": 578,
      "outputs": []
    },
    {
      "cell_type": "code",
      "source": [
        "MMM_previous = MMM.loc[MMM.index<(max(MMM.index)-60),'Close']"
      ],
      "metadata": {
        "id": "AQZLu_ZXYWa1"
      },
      "execution_count": 579,
      "outputs": []
    },
    {
      "cell_type": "code",
      "source": [
        "actual=MMM_target.loc[MMM_target.index>=(max(MMM_target.index)-30),'Close']"
      ],
      "metadata": {
        "id": "FLHeod_6YWa1"
      },
      "execution_count": 580,
      "outputs": []
    },
    {
      "cell_type": "code",
      "source": [
        "MMM_actual = [i for i in MMM_previous[500:]]\n",
        "for i in actual:\n",
        "    MMM_actual.append(i)"
      ],
      "metadata": {
        "id": "xxj0-jLbYWa1"
      },
      "execution_count": 581,
      "outputs": []
    },
    {
      "cell_type": "code",
      "source": [
        "MMM_pred=[i for i in MMM_previous[500:]]\n",
        "for i in prediction:\n",
        "    MMM_pred.append(i)"
      ],
      "metadata": {
        "id": "qNodEr0wYWa1"
      },
      "execution_count": 582,
      "outputs": []
    },
    {
      "cell_type": "code",
      "source": [
        "plt.figure()\n",
        "\n",
        "plt.plot(range(len(MMM_pred)), MMM_pred, 'orange', label='Predicted Price')\n",
        "plt.plot(range(len(MMM_actual)), MMM_actual, 'b', label='Actual Price')\n",
        "plt.title('Predicted and Actual Price')\n",
        "plt.legend()\n",
        "\n",
        "plt.show()"
      ],
      "metadata": {
        "colab": {
          "base_uri": "https://localhost:8080/",
          "height": 281
        },
        "outputId": "1c48a443-2f59-4b5d-8921-b406760d5aa7",
        "id": "HRKBSXGQYWa1"
      },
      "execution_count": 583,
      "outputs": [
        {
          "output_type": "display_data",
          "data": {
            "text/plain": [
              "<Figure size 432x288 with 1 Axes>"
            ],
            "image/png": "[encoded data removed]"
          },
          "metadata": {
            "needs_background": "light"
          }
        }
      ]
    }
  ]
}